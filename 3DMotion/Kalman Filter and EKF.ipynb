{
 "cells": [
  {
   "cell_type": "markdown",
   "metadata": {},
   "source": [
    "# Kalman Filter and Extended Kalman Filter\n",
    "\n",
    "These notes are based on a [video](https://youtu.be/BblUVCcT__s) by Stachniss."
   ]
  },
  {
   "cell_type": "markdown",
   "metadata": {},
   "source": [
    "##  Mapping and Localization are State Estimation Problems\n",
    "\n",
    "The Bayes filter is a tool for state estimation. Previously, we separated the the Bayes filter into two steps:\n",
    "1. Prediction \n",
    "$$\\overline{\\texttt{bel}}(x_{t}) = \\int p(x_{t}|x_{t-1},u_{1:t})\\texttt{bel}(x_{t-1})\\,dx_{t-1}$$\n",
    "2. Correction \n",
    "$$\\texttt{bel}(x_{t})=\\eta p(z_{t}|x_{t})\\overline{\\texttt{bel}}(x_{t})$$\n"
   ]
  },
  {
   "cell_type": "markdown",
   "metadata": {},
   "source": [
    "## Kalman Filter\n",
    "\n",
    "The Kalman filter is a Bayes filter and is an estimator for the linear Gaussian models. The Kalman filter is an optimal solution to recursive filtering for *linear models* and Gaussian distributions."
   ]
  },
  {
   "cell_type": "markdown",
   "metadata": {},
   "source": [
    "## Kalman Filter Distribution\n",
    "\n",
    "Linear Gaussian models require everything to be a Gaussian distribution:\n",
    "\n",
    "$$\n",
    "p(x) = \\texttt{det}(2\\pi\\Sigma)^{-\\frac{1}{2}} \\texttt{exp}(-\\frac{1}{2}(x-\\mu)^{T}\\Sigma^{-1}(x-\\mu))\\text{.}\n",
    "$$"
   ]
  },
  {
   "cell_type": "markdown",
   "metadata": {},
   "source": [
    "## Properties: Marginalization and Conditioning\n",
    "\n",
    "Given a random variable, $x$, than can be split into two components, $x_{a}$ and $x_{b}$, that has a probability distribution, $p(x)$ that is a Gaussian distribution, $\\mathcal{N}$:\n",
    "$$\n",
    "x = \\binom{x_{a}}{x_{b}}\\quad p(x) = \\mathcal{N}\\text{,}\n",
    "$$\n",
    "\n",
    "the marginal distributions are also Gaussian distributions:\n",
    "$$\n",
    "p(x_{a}) = \\mathcal{N}\\quad p(x_{b}) = \\mathcal{N}\\text{,}\n",
    "$$\n",
    "\n",
    "as well as the conditional distributions:\n",
    "$$\n",
    "p(x_{a} | x_{b}) = \\mathcal{N} \\quad p(x_{b} | x_{a}) = \\mathcal{N}\\text{.}\n",
    "$$"
   ]
  },
  {
   "cell_type": "markdown",
   "metadata": {},
   "source": [
    "## Marginalization\n",
    "\n",
    "If the parameters, $\\mu$ and $\\Sigma$, of the Gaussian distribution are given:\n",
    "$$\n",
    "p(x)=p(x_{a},x_{b})=\\mathcal{N}(\\mu,\\Sigma)\n",
    "$$\n",
    "with\n",
    "$$\n",
    "\\mu=\\binom{\\mu_{a}}{\\mu_{b}}\\quad \\Sigma=\\begin{pmatrix}\\Sigma_{aa}&\\Sigma_{ab}\\\\\\Sigma_{ba}&\\Sigma_{bb}\\end{pmatrix}\n",
    "$$\n",
    "we can directly obtain the parameters of the marginal distribution:\n",
    "$$\n",
    "p(x_{a})=\\int p(x_{a}, x_{b})\\,dx_{b}=\\mathcal{N}(\\mu, \\Sigma)\n",
    "$$\n",
    "with\n",
    "$$\n",
    "\\mu=\\mu_{a}\\quad \\Sigma=\\Sigma_{aa}\\text{.}\n",
    "$$"
   ]
  },
  {
   "cell_type": "markdown",
   "metadata": {},
   "source": [
    "## Conditioning\n",
    "\n",
    "Again, if the parameters, $\\mu$ and $\\Sigma$, of the Gaussian distribution are given:\n",
    "$$\n",
    "p(x)=p(x_{a},x_{b})=\\mathcal{N}(\\mu,\\Sigma)\n",
    "$$\n",
    "with\n",
    "$$\n",
    "\\mu=\\binom{\\mu_{a}}{\\mu_{b}}\\quad \\Sigma=\\begin{pmatrix}\\Sigma_{aa}&\\Sigma_{ab}\\\\\\Sigma_{ba}&\\Sigma_{bb}\\end{pmatrix}\n",
    "$$\n",
    "we can directly obtain the parameters of the conditional distribution:\n",
    "$$\n",
    "p(x_{a}|x_{b}) = \\frac{p(x_{a}, x_{b})}{p(x_{b})} = \\mathcal{N}(\\mu, \\Sigma)\n",
    "$$\n",
    "with\n",
    "$$\n",
    "\\begin{align}\n",
    "\\mu =&\\,\\mu_{a} + \\Sigma_{ab}\\Sigma_{bb}^{-1}(b-\\mu_{b})\\\\\n",
    "\\Sigma =&\\,\\Sigma_{aa}-\\Sigma_{ab}\\Sigma_{bb}^{-1}\\Sigma_{ba}\n",
    "\\end{align}\n",
    "$$"
   ]
  },
  {
   "cell_type": "markdown",
   "metadata": {},
   "source": [
    "## Combining the Marginalization and Conditioning\n",
    "\n",
    "After covering the marginalization and conditioning of our random variable $x$, we know that the distributions of both components result in a Gaussian distribution:\n",
    "$$\n",
    "p(\\binom{x_{a}}{x_{b}})=\\mathcal{N}(\\mu,\\Sigma)=\\mathcal{N}(\\binom{\\mu_{a}}{\\mu_{b}}, \\begin{pmatrix}\\Sigma_{aa}&\\Sigma_{ab}\\\\\\Sigma_{ba}&\\Sigma_{bb}\\end{pmatrix})\\text{.}\n",
    "$$\n",
    "\n",
    "We said that the marginalization uses the $x_{a}$ component:\n",
    "$$\n",
    "\\begin{align}\n",
    "p(x_{a})=&\\,\\mathcal{N}(\\mu, \\Sigma)\\\\\n",
    "\\mu=&\\,\\mu_{a}\\\\\n",
    "\\Sigma=&\\,\\Sigma_{aa}\\text{.}\n",
    "\\end{align}\n",
    "$$\n",
    "\n",
    "We also said that the conditioning uses both components:\n",
    "$$\n",
    "\\begin{align}\n",
    "p(x_{a}|x_{b}) =&\\,\\mathcal{N}(\\mu, \\Sigma)\\\\\n",
    "\\mu =&\\,\\mu_{a} + \\Sigma_{ab}\\Sigma_{bb}^{-1}(b-\\mu_{b})\\\\\n",
    "\\Sigma =&\\,\\Sigma_{aa}-\\Sigma_{ab}\\Sigma_{bb}^{-1}\\Sigma_{ba}\n",
    "\\end{align}\n",
    "$$"
   ]
  },
  {
   "cell_type": "markdown",
   "metadata": {},
   "source": [
    "## Linear Model\n",
    "\n",
    "The Kalman filter assumes a linear transition and observation model. We can construct the state of the random variable with how the previous state, $x_{t-1}$, and the motion information, $u_{t}$. The additional information is how the state changes without controls applied to the system, $A_{t}$, how the state changes with the given command, $B_{t}$, and an \n",
    "\n",
    "$$\n",
    "x_{t} = A_{t}x_{t-1} + B_{t}u_{t} + \\epsilon_{t}\\text{.}\n",
    "$$\n",
    "\n",
    "$$\n",
    "z_{t}=C_{t}x_{t}+\\delta_{t}\n",
    "$$"
   ]
  },
  {
   "cell_type": "markdown",
   "metadata": {},
   "source": []
  },
  {
   "cell_type": "markdown",
   "metadata": {},
   "source": []
  },
  {
   "cell_type": "markdown",
   "metadata": {},
   "source": []
  },
  {
   "cell_type": "markdown",
   "metadata": {},
   "source": []
  },
  {
   "cell_type": "markdown",
   "metadata": {},
   "source": []
  },
  {
   "cell_type": "markdown",
   "metadata": {},
   "source": []
  }
 ],
 "metadata": {
  "kernelspec": {
   "display_name": "Python 3",
   "language": "python",
   "name": "python3"
  },
  "language_info": {
   "codemirror_mode": {
    "name": "ipython",
    "version": 3
   },
   "file_extension": ".py",
   "mimetype": "text/x-python",
   "name": "python",
   "nbconvert_exporter": "python",
   "pygments_lexer": "ipython3",
   "version": "3.7.7"
  }
 },
 "nbformat": 4,
 "nbformat_minor": 4
}
