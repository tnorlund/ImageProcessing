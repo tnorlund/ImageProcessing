{
 "cells": [
  {
   "cell_type": "code",
   "execution_count": 1,
   "metadata": {},
   "outputs": [],
   "source": [
    "import cv2\n",
    "import numpy as np\n",
    "from matplotlib import pyplot as plt\n",
    "from mpl_toolkits.mplot3d import Axes3D\n",
    "import math"
   ]
  },
  {
   "cell_type": "markdown",
   "metadata": {},
   "source": [
    "# Structure From Motion\n",
    "\n",
    "We can calculate motion from points on consecutive images. Using [Epipolar geometry](#Epipolar-Geometry), we can look at a few images, find the same points between the images, and calculate the map of where the images were taken in the 3D space."
   ]
  },
  {
   "cell_type": "markdown",
   "metadata": {},
   "source": [
    "## Epipolar Geometry\n",
    "\n",
    "So, Epipolar geometry is basically a way for us to calculate the triangles created by the consecutive images, and the object that's in focus. \n",
    "\n",
    "![Epipolar-Geometry][logo]\n",
    "\n",
    "[logo]: https://docs.opencv.org/3.3.0/epipolar.jpg \"Epipolar Geometry\"\n",
    "\n",
    "\n",
    "With these triangles, were able to map the world behind the lens."
   ]
  },
  {
   "cell_type": "markdown",
   "metadata": {},
   "source": [
    "```\n",
    "TODO\n",
    "----\n",
    "Change variable names to match the book rather than the video\n",
    "http://ksimek.github.io/2012/08/22/extrinsic/\n",
    "```\n",
    "\n",
    "\n",
    "- The optical centers of the two cameras, a point $P$, and the image points $p_{0}$ and $p_{1}$ of $P$ all lie in the same plane (epipolar plane)\n",
    "- These vectors are co-planar: $\\vec{C_{0}p_{0}}, \\vec{C_{1}p_{1}}, \\vec{C_{0}C_{1}}$\n",
    "\n",
    "- Now, instead of treating $p_{0}$ as a point, treat it as a 3D direction vector:\n",
    "\n",
    "$$p_{0} = C_{0}\\begin{pmatrix}\n",
    "           x_{0} \\\\\n",
    "           y_{0} \\\\\n",
    "           1\n",
    "         \\end{pmatrix} $$\n",
    "Here, we assume \"normalized\" image coordinates (focal length of $1$)\n",
    "\n",
    "- The same can be applied in the second photo's coordinate system:\n",
    "$$p_{1} = C_{1}\\begin{pmatrix}\n",
    "           x_{1} \\\\\n",
    "           y_{1} \\\\\n",
    "           1\n",
    "         \\end{pmatrix} $$\n",
    "- To find the direction of the second photo's coordinate system in the first photo, you need to apply some rotation matrix $R$ from the first photo's point, $p_{0}$, to the second photo's point, $p_{1}$.\n",
    "$$ ^{C_{0}}_{C_{1}}Rp_{1}$$\n",
    "- Don't forget! These vectors determine direction and not the starting point.\n",
    "\n",
    "- We know that the points $p_{0}$ and $p_{1}$ are coplanar. This gives us the constraint\n",
    "$$\\vec{C_{0}p_{0}} \\cdot \\vec{C_{0}C_{1}} \\times \\vec{C_{1}p_{1}} =0 $$\n",
    "\n",
    "- We can write the coplanar constraint as \n",
    "$$p_{0} \\cdot (t \\times Rp_{1}) = 0 $$\n",
    "\n",
    "  - Where $R$ is the rotation of the first photo with respect to the second photo\n",
    "  $$^{C_{0}}_{C_{1}}R $$\n",
    "  - and $t$ is the translation of the first photo's origin with respect to the first photo\n",
    "  $$ ^{C_{0}}t_{C_{1orig}} $$\n",
    "  - Remember that the pose, $H$, of the first photo with respect to the second photo is a homogeneous transformation matrix:\n",
    "  $$ ^{C_{0}}_{C_{1}}H = \\begin{pmatrix}\n",
    "  ^{C_{0}}_{C_{1}}R & ^{C_{0}}t_{C_{1orig}} \\\\\n",
    "  0 & 1\n",
    "  \\end{pmatrix}$$\n",
    "  \n",
    "- We can replace the vector product with a skew symmetric-matrix for $t$\n",
    "$$ p^{t}_{0}[t]_{x}R_{p_{1}} = 0$$\n",
    "- We will let the essential matrix be the 3x3 matrix: $E=[t]_x R$.\n",
    "\n",
    "- With all of this, we have the epipolar constraint:\n",
    "$$ p^{T}_{0} E p_{1} = 0$$\n",
    "\n",
    "$$\n",
    "\\begin{pmatrix}x_{0} & y_{0} & 1\\end{pmatrix}\n",
    "\\begin{pmatrix}\n",
    "    E_{11} & E_{12} & E_{13} \\\\\n",
    "    E_{21} & E_{22} & E_{23} \\\\\n",
    "    E_{31} & E_{32} & E_{33}\\end{pmatrix}\n",
    "\\begin{pmatrix}x_{1} \\\\ y_{1} \\\\ 1\\end{pmatrix}\n",
    "=0\n",
    "$$\n",
    "\n",
    "\n",
    "\n",
    "\n",
    "### Essential Matrix\n",
    "- The matrix $E$, that relates the image of a point in one camera to its image in the other camera, given a translation and rotation.\n",
    "- With known coordinates, we can project/render images.\n"
   ]
  },
  {
   "cell_type": "code",
   "execution_count": 2,
   "metadata": {},
   "outputs": [],
   "source": [
    "image_size = 300\n",
    "image_1 = np.zeros((image_size, image_size))"
   ]
  },
  {
   "cell_type": "markdown",
   "metadata": {},
   "source": [
    "With a blank image, we can define pose, $H$. This will be composed of the focal length $f$ and the translation to position 0."
   ]
  },
  {
   "cell_type": "code",
   "execution_count": 3,
   "metadata": {},
   "outputs": [],
   "source": [
    "f = image_size\n",
    "u_0 = image_size/2\n",
    "v_0 = image_size/2\n",
    "H = np.matrix([\n",
    "    [f, 0, u_0],\n",
    "    [0, f, v_0],\n",
    "    [0, 0, 1]])"
   ]
  },
  {
   "cell_type": "markdown",
   "metadata": {},
   "source": [
    "With the pose defined, we can define points on the cube."
   ]
  },
  {
   "cell_type": "code",
   "execution_count": 4,
   "metadata": {},
   "outputs": [],
   "source": [
    "points = np.array([\n",
    "    [0, 2, 0, 1], \n",
    "    [0, 1, 0, 1],\n",
    "    [0, 0, 0, 1],\n",
    "    [0, 2, -1, 1],\n",
    "    [0, 1, -1, 1],\n",
    "    [0, 0, -2, 1],\n",
    "    [0, 2, -2, 1],\n",
    "    [0, 1, -2, 1],\n",
    "    [0, 0, -2, 2],\n",
    "    [1, 0, 0, 1],\n",
    "    [2, 0, 0, 1],\n",
    "    [1, 0, -1, 1],\n",
    "    [2, 0, -1, 1],\n",
    "    [1, 0, -2, 1],\n",
    "    [2, 0, -2, 1]\n",
    "]).transpose()"
   ]
  },
  {
   "cell_type": "markdown",
   "metadata": {},
   "source": [
    "With the points on the cube defined, we can rotate and translate the camera into its first position. We can do this by using an extrinsic camera parameter matrix, `M`. This matrix represents the camera rotated 120 degrees in the x coordinate system and 60 degrees in the z coordinate system. The camera is also translated 5 units in the z direction."
   ]
  },
  {
   "cell_type": "code",
   "execution_count": 5,
   "metadata": {},
   "outputs": [],
   "source": [
    "a_x = 120 * (math.pi/180)\n",
    "a_y = 0 * (math.pi/180)\n",
    "a_z = 60 * (math.pi/180)\n",
    "translate_0 = np.matrix([[0], [0], [5]])\n",
    "R_x = np.matrix([\n",
    "    [1, 0, 0],\n",
    "    [0, math.cos(a_x), -math.sin(a_x)],\n",
    "    [0, math.sin(a_x), math.cos(a_x)]\n",
    "])\n",
    "R_y = np.matrix([\n",
    "    [math.cos(a_y), 0, math.sin(a_y)],\n",
    "    [0, 1, 0],\n",
    "    [-math.sin(a_y), 0, math.cos(a_y)]\n",
    "])\n",
    "R_z = np.matrix([\n",
    "    [math.cos(a_z), -math.sin(a_z), 0], \n",
    "    [math.sin(a_z), math.cos(a_z), 0], \n",
    "    [0, 0, 1]\n",
    "])\n",
    "M = np.append(R_x * R_y * R_z, translate_0, 1)\n",
    "points_1 = M * points"
   ]
  },
  {
   "cell_type": "markdown",
   "metadata": {},
   "source": [
    "With the first image's focal length, $f_1$, and the point's distance from the camera, $Z_1$, set, we can render the individual points, $p_i$.\n",
    "\n",
    "$$p_i = (f_1 / Z_1)P_1$$\n",
    "\n",
    "We then need to convert the normalized image points to be unnormalized."
   ]
  },
  {
   "cell_type": "code",
   "execution_count": 6,
   "metadata": {
    "scrolled": false
   },
   "outputs": [
    {
     "data": {
      "image/png": "[encoded data removed]",
      "text/plain": [
       "<Figure size 540x540 with 1 Axes>"
      ]
     },
     "metadata": {
      "needs_background": "light"
     },
     "output_type": "display_data"
    }
   ],
   "source": [
    "points_1[0,:] = points_1[0,:] / points_1[2,:]\n",
    "points_1[1,:] = points_1[1,:] / points_1[2,:]\n",
    "points_1[2,:] = points_1[2,:] / points_1[2,:]\n",
    "u_1 = H * points_1\n",
    "for row in u_1.transpose():\n",
    "    image_1[int(row[0, 0])-2:int(row[0, 0])+2, int(row[0, 1])-2:int(row[0, 1])+2] = 255\n",
    "plt.figure(1, figsize = (7.5,7.5))\n",
    "axes = plt.gca()\n",
    "axes.scatter(\n",
    "    [x[0] for x in u_1.transpose()[:,0].tolist()],\n",
    "    [300-y[0] for y in u_1.transpose()[:,1].tolist()]\n",
    ")\n",
    "axes.set_xlim([0, 300])\n",
    "axes.set_ylim([0, 300])\n",
    "axes.set_title(\"First Image\", size=20)\n",
    "axes.axis(\"off\")\n",
    "plt.show()"
   ]
  },
  {
   "cell_type": "markdown",
   "metadata": {},
   "source": [
    "With the first image rendered, we can use the same calculations to move the camera again."
   ]
  },
  {
   "cell_type": "code",
   "execution_count": 7,
   "metadata": {},
   "outputs": [],
   "source": [
    "a_x = 0 * (math.pi/180)\n",
    "a_y = -25 * (math.pi/180)\n",
    "a_z = 0 * (math.pi/180)\n",
    "translate_1 = np.matrix([[3], [0], [1]])\n",
    "R_x = np.matrix([\n",
    "    [1, 0, 0],\n",
    "    [0, math.cos(a_x), -math.sin(a_x)],\n",
    "    [0, math.sin(a_x), math.cos(a_x)]\n",
    "])\n",
    "R_y = np.matrix([\n",
    "    [math.cos(a_y), 0, math.sin(a_y)],\n",
    "    [0, 1, 0],\n",
    "    [-math.sin(a_y), 0, math.cos(a_y)]\n",
    "])\n",
    "R_z = np.matrix([\n",
    "    [math.cos(a_z), -math.sin(a_z), 0], \n",
    "    [math.sin(a_z), math.cos(a_z), 0], \n",
    "    [0, 0, 1]\n",
    "])\n",
    "M_c1 = np.append(R_x * R_y * R_z, translate_1, 1)"
   ]
  },
  {
   "cell_type": "markdown",
   "metadata": {},
   "source": [
    "```\n",
    "TODO\n",
    "----\n",
    "Create variable names for the camera positions.\n",
    "```\n",
    "\n",
    "With the extrinsic matrix created for the translation of camera 1 to camera 2, the different poses can be found. The pose of the start of the camera with respect to the camera's first position is created by appending the a row for rotation. The same is applied to the pose of the second position to the first position."
   ]
  },
  {
   "cell_type": "code",
   "execution_count": 8,
   "metadata": {},
   "outputs": [],
   "source": [
    "H_m_c1 = np.vstack([M, [0, 0, 0, 1]])\n",
    "H_c2_c1 = np.vstack([M_c1, [0, 0, 0, 1]])\n",
    "H_c1_c2 = np.linalg.inv(H_c2_c1)\n",
    "H_m_c2 = H_c1_c2 * H_m_c1"
   ]
  },
  {
   "cell_type": "code",
   "execution_count": 9,
   "metadata": {},
   "outputs": [],
   "source": [
    "R_m_c2 = H_m_c2[0:3,0:3]\n",
    "translate_0_2 = H_m_c2[0:3,3]\n",
    "M = np.append(R_m_c2, translate_0_2, 1)"
   ]
  },
  {
   "cell_type": "code",
   "execution_count": 10,
   "metadata": {},
   "outputs": [
    {
     "data": {
      "image/png": "[encoded data removed]",
      "text/plain": [
       "<Figure size 540x540 with 1 Axes>"
      ]
     },
     "metadata": {
      "needs_background": "light"
     },
     "output_type": "display_data"
    }
   ],
   "source": [
    "image_2 = np.zeros((image_size, image_size))\n",
    "points_2 = np.vstack([\n",
    "    (M * points)[0,:] / (M * points)[2,:],\n",
    "    (M * points)[1,:] / (M * points)[2,:],\n",
    "    (M * points)[2,:] / (M * points)[2,:]\n",
    "])\n",
    "u_2 = H * points_2\n",
    "for row in u_2.transpose():\n",
    "    image_2[int(row[0, 0])-2:int(row[0, 0])+2, int(row[0, 1])-2:int(row[0, 1])+2] = 255\n",
    "    \n",
    "plt.figure(1, figsize = (7.5,7.5))\n",
    "axes = plt.gca()\n",
    "axes.scatter(\n",
    "    [x[0] for x in u_2.transpose()[:,0].tolist()],\n",
    "    [300-y[0] for y in u_2.transpose()[:,1].tolist()]\n",
    ")\n",
    "axes.set_xlim([0, 300])\n",
    "axes.set_ylim([0, 300])\n",
    "axes.set_title(\"Second Image\", size=20)\n",
    "axes.axis(\"off\")\n",
    "plt.show()"
   ]
  },
  {
   "cell_type": "code",
   "execution_count": 11,
   "metadata": {},
   "outputs": [
    {
     "data": {
      "text/plain": [
       "matrix([[ 0.        , -1.        ,  0.        ],\n",
       "        [-0.361547  ,  0.        , -3.14154162],\n",
       "        [ 0.        ,  3.        ,  0.        ]])"
      ]
     },
     "execution_count": 11,
     "metadata": {},
     "output_type": "execute_result"
    }
   ],
   "source": [
    "E = np.matrix([\n",
    "    [0, -float(translate_1[2][0]), float(translate_1[1][0])],\n",
    "    [float(translate_1[2][0]), 0, float(-translate_1[0][0])],\n",
    "    [-float(translate_1[1][0]), float(translate_1[0][0]), 0]\n",
    "]) * M_c1\n",
    "E = np.delete(E, -1, axis=1)\n",
    "E"
   ]
  },
  {
   "cell_type": "markdown",
   "metadata": {},
   "source": [
    "### Calculating the Essential Matrix\n",
    "\n",
    "Remember the Essential matrix, $E$? It relates the image of a point in one image to its location in another image by a given rotation and/or translation,\n",
    "$$ p^{T}_{0} E p_{1} = 0 \\text{,}$$\n",
    "where\n",
    "$$E=[t]_x R\\text{.}$$\n",
    "\n",
    "We can calculate $E$ if we know the pose between the two images. We can also calculate $E$ from a set of known point correspondences, like the points in both $p_0$ and $p_1$.\n",
    "\n",
    "Now, $E$ is a 3x3 matrix with 9 unknowns. Again, there is a scale factor, which helps us out by letting us know that there are actually only 8 unknowns. With 8 equations, we can calculate $E$ from 8 or more related points between images. We can simplify the equation as follows:\n",
    "\n",
    "$$\n",
    "\\begin{pmatrix}x_{0} & y_{0} & 1\\end{pmatrix}\n",
    "\\begin{pmatrix}\n",
    "    E_{11} & E_{12} & E_{13} \\\\\n",
    "    E_{21} & E_{22} & E_{23} \\\\\n",
    "    E_{31} & E_{32} & E_{33}\\end{pmatrix}\n",
    "\\begin{pmatrix}x_{1} \\\\ y_{1} \\\\ 1\\end{pmatrix}\n",
    "=0\n",
    "$$\n",
    "\n",
    "$$\n",
    "\\begin{pmatrix}x_{0} & y_{0} & 1\\end{pmatrix}\n",
    "\\begin{pmatrix}\n",
    "    E_{11}x_{1} + E_{12}y{1} + E_{13} \\\\\n",
    "    E_{21}x_{1} + E_{22}y_{1} + E_{23} \\\\\n",
    "    E_{31}x_{1} + E_{32}y_{1} + E_{33}\\end{pmatrix} = 0\n",
    "$$\n",
    "\n",
    "$$\n",
    "\\begin{split}\n",
    "E_{11}x_{1}x_{0} &+ E_{12}y{1}x_{0}  &+ E_{13}x_{0} &+\\\\\n",
    "E_{21}y_{0}x_{1} &+ E_{22}y_{0}y_{1} &+ E_{23}y_{0} &+\\\\\n",
    "E_{31}x_{1}      &+ E_{32}y_{1}      &+ E_{33}      &= 0\n",
    "\\end{split}\n",
    "$$\n",
    "\n",
    "With this equation, we can write it as a matrix equation by separating the unknowns from the known variables.\n",
    "\n",
    "$$\n",
    "\\begin{pmatrix} x_{0}x_{1} & x_{0}y_{1} & x_{0} & y_{0}x_{1} & y_{0}y_{1} & y_{0} & x_{1} & y_{1} & 1 \\end{pmatrix}\n",
    "\\begin{pmatrix} E_{11} \\\\ E_{12} \\\\ E_{13} \\\\ \\vdots \\\\ E_{33}\\end{pmatrix} = 0\n",
    "$$\n",
    "\n",
    "With this system of homogeneous equations, we can ignore the trivial solution, $x=0$. Without the trivial solution, we only have the _unique_ solution. While we cannot calculate this exactly, we can use principal component analysis to find an answer with small error. Our minimization will be: \n",
    "$$\\sum (p^{T}_{0} E p_{1})^{2} \\text{.}$$\n",
    "\n",
    "\n",
    "We can use singular value decomposition, SVD, to solve for the essential matrix:\n",
    "\n",
    "$$\n",
    "A = U D V^{T} \\text{,}\n",
    "$$\n",
    "\n",
    "where\n",
    "\n",
    "$$\n",
    "A = \\begin{pmatrix} x_{0}x_{1} & x_{0}y_{1} & x_{0} & y_{0}x_{1} & y_{0}y_{1} & y_{0} & x_{1} & y_{1} & 1 \\end{pmatrix}\\text{.}\n",
    "$$\n",
    "\n",
    "The solution of $E$ is the column of $V$ corresponding to the only null singular value of $A$. In this scenario, the rightmost column of $V$ is the solution we are looking for.\n",
    "\n",
    "---\n",
    "\n",
    "The first step in this process is to scale and translate the image points so that the centroid of all the points is found at the origin. In order to do this, we first need to calculate the centroids of all the ($x$, $y$) coordinates found in the first image."
   ]
  },
  {
   "cell_type": "code",
   "execution_count": 12,
   "metadata": {},
   "outputs": [],
   "source": [
    "x_n = points_1[0:2, :]\n",
    "N = x_n.shape[1]\n",
    "t = np.sum(x_n, axis=1) / N"
   ]
  },
  {
   "cell_type": "markdown",
   "metadata": {},
   "source": [
    "With this, we can center the points to the origin, find the distance from the centroid of all the centered points, `dc`, and calculate a scale factor `s` that we use to scale the points to have an average distance of $\\sqrt{2}$ from the origin."
   ]
  },
  {
   "cell_type": "code",
   "execution_count": 13,
   "metadata": {},
   "outputs": [],
   "source": [
    "xnc = x_n - t * np.ones((1,N))\n",
    "dc = np.sqrt(np.sum(np.power(xnc, 2).transpose(), axis=1))\n",
    "d_avg = 1 / N * np.sum(dc)\n",
    "s = np.sqrt(2) / d_avg"
   ]
  },
  {
   "cell_type": "markdown",
   "metadata": {},
   "source": [
    "Now we can create the skew-symmetric matrix, $t$, with the scale factor and the distance from the centroid we calculated earlier."
   ]
  },
  {
   "cell_type": "code",
   "execution_count": 14,
   "metadata": {},
   "outputs": [],
   "source": [
    "t_1 = np.zeros((2, 2), float)\n",
    "np.fill_diagonal(t_1, s)\n",
    "t_1 = np.vstack([np.hstack([t_1, -s * t]), [0, 0, 1]])\n",
    "points_1_scaled = t_1 * points_1"
   ]
  },
  {
   "cell_type": "markdown",
   "metadata": {},
   "source": [
    "We can do the same thing with the second set of points we found earlier."
   ]
  },
  {
   "cell_type": "code",
   "execution_count": 15,
   "metadata": {},
   "outputs": [],
   "source": [
    "x_n = points_2[0:2, :]\n",
    "N = x_n.shape[1]\n",
    "t = np.sum(x_n, axis=1) / N\n",
    "xnc = x_n - t * np.ones((1,N))\n",
    "dc = np.sqrt(np.sum(np.power(xnc, 2).transpose(), axis=1))\n",
    "d_avg = 1 / N * np.sum(dc)\n",
    "s = np.sqrt(2) / d_avg\n",
    "t_2 = np.zeros((2, 2), float)\n",
    "np.fill_diagonal(t_2, s)\n",
    "t_2 = np.vstack([np.hstack([t_2, -s * t]), [0, 0, 1]])\n",
    "points_2_scaled = t_2 * points_2"
   ]
  },
  {
   "cell_type": "markdown",
   "metadata": {},
   "source": [
    "In order to do our SVD, we first need to create the $A$ matrix:\n",
    "$$A = \\begin{pmatrix} x_{0}x_{1} & x_{0}y_{1} & x_{0} & y_{0}x_{1} & y_{0}y_{1} & y_{0} & x_{1} & y_{1} & 1 \\end{pmatrix}\\text{.}$$\n",
    "\n",
    "Because we have $n$ unique points, the $A$ matrix will be $n \\times 9$."
   ]
  },
  {
   "cell_type": "code",
   "execution_count": 16,
   "metadata": {},
   "outputs": [],
   "source": [
    "A = np.hstack([\n",
    "    np.multiply(points_1_scaled[0,:].transpose(), points_2_scaled[0,:].transpose()),\n",
    "    np.multiply(points_1_scaled[0,:].transpose(), points_2_scaled[1,:].transpose()),\n",
    "    points_1_scaled[0,:].transpose(),\n",
    "    np.multiply(points_1_scaled[1,:].transpose(), points_2_scaled[0,:].transpose()),\n",
    "    np.multiply(points_1_scaled[1,:].transpose(), points_2_scaled[1,:].transpose()),\n",
    "    points_1_scaled[1,:].transpose(),\n",
    "    points_2_scaled[0,:].transpose(),\n",
    "    points_2_scaled[1,:].transpose(),\n",
    "    np.matrix(np.ones(15)).transpose()\n",
    "])"
   ]
  },
  {
   "cell_type": "markdown",
   "metadata": {},
   "source": [
    "With the $A$ matrix created, we can calculate the SVD of $A$."
   ]
  },
  {
   "cell_type": "code",
   "execution_count": 17,
   "metadata": {
    "scrolled": true
   },
   "outputs": [],
   "source": [
    "[U, D, V] = np.linalg.svd(A)\n",
    "x = V[8, :]\n",
    "E_scaled = np.reshape(V[8, :].tolist(), (3,3))"
   ]
  },
  {
   "cell_type": "markdown",
   "metadata": {},
   "source": [
    "Since we decomposed the matrix, we will need to force $\\text{rank}(E)=2$ and equal Eigenvalues in the scaled essential matrix."
   ]
  },
  {
   "cell_type": "code",
   "execution_count": 18,
   "metadata": {},
   "outputs": [],
   "source": [
    "[U, D, V] = np.linalg.svd(E_scaled)\n",
    "E_scaled = U * np.diag([1, 1, 0]) * V.transpose()"
   ]
  },
  {
   "cell_type": "code",
   "execution_count": 19,
   "metadata": {
    "scrolled": true
   },
   "outputs": [
    {
     "data": {
      "text/plain": [
       "matrix([[ 2.45762485e-02,  0.00000000e+00,  2.86903168e-03],\n",
       "        [ 0.00000000e+00, -1.72134999e+01,  1.22562695e+00],\n",
       "        [ 9.64260721e-04,  1.21033188e+00, -8.60648732e-02]])"
      ]
     },
     "execution_count": 19,
     "metadata": {},
     "output_type": "execute_result"
    }
   ],
   "source": [
    "E_compute =  t_1.transpose() * E_scaled * t_2\n",
    "E_compute"
   ]
  },
  {
   "cell_type": "markdown",
   "metadata": {},
   "source": [
    "### Recovering Motion From The Essential Matrix\n",
    "\n",
    "With the essential matrix, you can recover relative motion between images. We know that the Essential matrix is composed of the translation and rotation:\n",
    "\n",
    "$$E=[t]_x R\\text{.}$$\n",
    "\n",
    "So how do we recover the translation and rotation of the matrix? Singular value decomposition of course!\n",
    "\n",
    "$$E = U D V^{T}\\text{,}$$\n",
    "\n",
    "The translation, $t$, is either $u_3$ or $-u_3$, where $u_3$ is the last column of $U$. The rotation, $R$ is either $UWV^{T}$ or $UW^{T}V^{T}$, where\n",
    "\n",
    "$$\n",
    "W = \\begin{pmatrix}\n",
    "0 & -1 & 0 \\\\\n",
    "1 & 0 & 0 \\\\\n",
    "0 & 0 & 1\n",
    "\\end{pmatrix} \\text{.}\n",
    "$$\n",
    "\n",
    "This gives us 4 possible solutions. Luckily, 3 of the solutions support ideas that the points are behind the camera. We can rule these out. Our solution is homogeneous, which means that we can scale it by any constant, \n",
    "\n",
    "$$\n",
    "kE=k[t]_x R\n",
    "\\text{,}\n",
    "$$\n",
    "\n",
    "and get valid results. This gives us a correct rotation, $R$, but a translation, $t$, of an arbitrary amount.\n",
    "\n",
    "---\n",
    "\n",
    "First, we can calculate the SVD of $E$ and define $W$."
   ]
  },
  {
   "cell_type": "code",
   "execution_count": 20,
   "metadata": {},
   "outputs": [],
   "source": [
    "U, D, VT = np.linalg.svd(E)\n",
    "U[:,[0, 1]] = U[:,[1, 0]]\n",
    "V = VT.transpose()\n",
    "V[:,[0, 1]] = V[:,[1, 0]]\n",
    "W = np.matrix([\n",
    "    [0, -1, 0],\n",
    "    [1, 0, 0],\n",
    "    [0, 0, 1]\n",
    "])"
   ]
  },
  {
   "cell_type": "markdown",
   "metadata": {},
   "source": [
    "Now, we can calculate our 4 possible solutions."
   ]
  },
  {
   "cell_type": "code",
   "execution_count": 21,
   "metadata": {
    "scrolled": false
   },
   "outputs": [],
   "source": [
    "results = [\n",
    "    np.vstack([np.hstack([U@W@V.transpose(),  U[:,2]]), [0,0,0,1]]),\n",
    "    np.vstack([np.hstack([U@W@V.transpose(), -U[:,2]]), [0,0,0,1]]),\n",
    "    np.vstack([np.hstack([U@W.transpose()@V.transpose(),  U[:,2]]), [0,0,0,1]]),\n",
    "    np.vstack([np.hstack([U@W.transpose()@V.transpose(), -U[:,2]]), [0,0,0,1]])\n",
    "]"
   ]
  },
  {
   "cell_type": "markdown",
   "metadata": {},
   "source": [
    "With these results, we can reconstruct the points in 3D space. So, given the hypothesized pose, we can construct a model that follows the constrains given by the projections:\n",
    "\n",
    "$$\n",
    "Z_{1}p_{1}=M_{1}P \\\\\n",
    "Z_{2}p_{2}=M_{2}P \n",
    "$$\n",
    "\n",
    "where\n",
    "\n",
    "$$\n",
    "M_{1} = \\begin{pmatrix}\n",
    "1 & 0 & 0 & 0 \\\\\n",
    "0 & 1 & 0 & 0 \\\\\n",
    "0 & 0 & 1 & 0\n",
    "\\end{pmatrix}\n",
    "$$\n",
    "\n",
    "$$\n",
    "M_{2} = \\begin{pmatrix}\n",
    "r_{11} & r_{12} & r_{13} & t_{x} \\\\\n",
    "r_{21} & r_{22} & r_{23} & t_{y} \\\\\n",
    "r_{31} & r_{32} & r_{33} & t_{z}\n",
    "\\end{pmatrix}\n",
    "=\n",
    "\\begin{pmatrix}\n",
    "^{2}_{1}R & ^{2}t_{1orig}\n",
    "\\end{pmatrix}\n",
    "$$\n",
    "\n",
    "So since the projected point,$p_{1}$, and the observed point, $M_{1}P$, are parallel, their cross product should be $0$. The same can be said with the projected points of the second image. This gives us the constraint:\n",
    "\n",
    "$$\n",
    "p_{1}\\times M_{1}P=0\\\\\n",
    "p_{2}\\times M_{2}P=0\n",
    "$$\n",
    "\n",
    "We can solve for $P$ by using least squares. \n",
    "\n",
    "$$\n",
    "\\begin{pmatrix}\n",
    "[(p_{1})_x] M_{1} \\\\\n",
    "[(p_{2})_x] M_{2}\n",
    "\\end{pmatrix}\n",
    "P = 0\n",
    "$$\n",
    "\n",
    "---\n",
    "\n",
    "First, we can declare the necessary identity matrix, `M_1`."
   ]
  },
  {
   "cell_type": "code",
   "execution_count": 22,
   "metadata": {},
   "outputs": [],
   "source": [
    "M_1 = np.matrix([\n",
    "    [1, 0, 0, 0],\n",
    "    [0, 1, 0, 0],\n",
    "    [0, 0, 1, 0]\n",
    "])"
   ]
  },
  {
   "cell_type": "markdown",
   "metadata": {},
   "source": [
    "Then, we declare our projections using the last point relationship in the images."
   ]
  },
  {
   "cell_type": "code",
   "execution_count": 23,
   "metadata": {},
   "outputs": [],
   "source": [
    "p_1_x = np.matrix([\n",
    "    [0, -points_1.transpose()[-1, 2], points_1.transpose()[-1, 1]],\n",
    "    [points_1.transpose()[-1, 2], 0, -points_1.transpose()[-1, 0]],\n",
    "    [-points_1.transpose()[-1, 1], points_1.transpose()[-1, 0], 0]\n",
    "])\n",
    "p_2_x = np.matrix([\n",
    "    [0, -points_2.transpose()[-1, 2], points_2.transpose()[-1, 1]],\n",
    "    [points_2.transpose()[-1, 2], 0, -points_2.transpose()[-1, 0]],\n",
    "    [-points_2.transpose()[-1, 1], points_2.transpose()[-1, 0], 0]\n",
    "])"
   ]
  },
  {
   "cell_type": "markdown",
   "metadata": {},
   "source": [
    "Now, we can iterate over our results and find which of the results yields 3D points in front of each camera."
   ]
  },
  {
   "cell_type": "code",
   "execution_count": 24,
   "metadata": {},
   "outputs": [],
   "source": [
    "for result in results:\n",
    "    if np.linalg.det(result[0:2,0:2]) < 0:\n",
    "        result = -result\n",
    "    U, D, V = np.linalg.svd(\n",
    "        np.vstack([\n",
    "            [p_1_x @ M_1],\n",
    "            [p_2_x @ np.linalg.inv(result)[0:3,:]]\n",
    "        ])\n",
    "    )\n",
    "    P = V[-1]\n",
    "    P_1_est = P / P[0,-1]\n",
    "    P_2_est = np.linalg.inv(result) @ P_1_est.transpose()\n",
    "    if P_1_est[2,0] > 0 and P_2_est[2,0] > 0:\n",
    "        answer = -result"
   ]
  },
  {
   "cell_type": "markdown",
   "metadata": {},
   "source": [
    "Once we have a found the answer, we can reconstruct the points in 3D by using the estimated $M_{2}$ matrix."
   ]
  },
  {
   "cell_type": "code",
   "execution_count": 25,
   "metadata": {},
   "outputs": [],
   "source": [
    "M_2_est = np.linalg.inv(answer)[0:3,:]\n",
    "P_est = []\n",
    "for idx in range(0, points_1.shape[1]):\n",
    "    p_1_x = np.matrix([\n",
    "        [0, -points_1.transpose()[idx, 2], points_1.transpose()[idx, 1]],\n",
    "        [points_1.transpose()[idx, 2], 0, -points_1.transpose()[idx, 0]],\n",
    "        [-points_1.transpose()[idx, 1], points_1.transpose()[idx, 0], 0]\n",
    "    ])\n",
    "    p_2_x = np.matrix([\n",
    "        [0, -points_2.transpose()[idx, 2], points_2.transpose()[idx, 1]],\n",
    "        [points_2.transpose()[idx, 2], 0, -points_2.transpose()[idx, 0]],\n",
    "        [-points_2.transpose()[idx, 1], points_2.transpose()[idx, 0], 0]\n",
    "    ])\n",
    "    U, D, V = np.linalg.svd(\n",
    "        np.vstack([\n",
    "            p_1_x @ M_1,\n",
    "            p_2_x @ M_2_est\n",
    "        ])\n",
    "    )\n",
    "    P = V[-1]\n",
    "    P_est.append((P / P[0,-1]).tolist()[0][0:3]) "
   ]
  },
  {
   "cell_type": "markdown",
   "metadata": {},
   "source": [
    "Now, we can plot these 3D coordinates on a graph."
   ]
  },
  {
   "cell_type": "code",
   "execution_count": 26,
   "metadata": {},
   "outputs": [
    {
     "data": {
      "image/png": "[encoded data removed]",
      "text/plain": [
       "<Figure size 540x540 with 1 Axes>"
      ]
     },
     "metadata": {
      "needs_background": "light"
     },
     "output_type": "display_data"
    }
   ],
   "source": [
    "fig = plt.figure(figsize = (7.5,7.5))\n",
    "ax = fig.add_subplot(111, projection='3d')\n",
    "ax.scatter(\n",
    "    [point[0] for point in P_est],\n",
    "    [point[1] for point in P_est],\n",
    "    [point[2] for point in P_est]\n",
    ")\n",
    "plt.show()"
   ]
  },
  {
   "cell_type": "markdown",
   "metadata": {},
   "source": [
    "Looking at the graph, the points remain on the face of the cube."
   ]
  },
  {
   "cell_type": "markdown",
   "metadata": {},
   "source": [
    "### Epipolar Lines\n",
    "\n",
    "You can draw any line on a 2D plane with the equation $ax + by + c = 0$. The issue we face while trying to draw lines between these points, is that you can scale this equation by any constant, $k$, and the constraint is still meet: $(ka)x+(kb)y + (kc)=0$.\n",
    "\n",
    "So, if we say that a line may be represented as a set of homogeneous coordinates,\n",
    "\n",
    "$$l = (a,b,c)^{T}\\text{,}$$\n",
    "\n",
    "we can say that the point $p$ lies on the line $l$ if and only if $p^{T}l=0$\n",
    "\n",
    "$$p^{T}l=\n",
    "\\begin{pmatrix}x & y & z\\end{pmatrix}\n",
    "\\begin{pmatrix}a \\\\ b \\\\ c \\end{pmatrix}\n",
    "=ax +by + cz\n",
    "$$\n",
    "\n",
    "With that out of the way, the constraint of the epipolar line, \n",
    "\n",
    "$$p_{0}^{T} E p_{1} = 0 \\text{,}$$\n",
    "\n",
    "allows us to draw lines on the images that are on the epipolar plane\n",
    "\n",
    "$$\n",
    "\\begin{pmatrix}x_{0} & y_{0} & 1\\end{pmatrix}\n",
    "\\begin{pmatrix}a \\\\ b \\\\ c \\end{pmatrix} = \n",
    "ax_{0} + by_{0} + c = 0\\text{.}\n",
    "$$"
   ]
  },
  {
   "cell_type": "code",
   "execution_count": 27,
   "metadata": {},
   "outputs": [
    {
     "data": {
      "image/png": "[encoded data removed]",
      "text/plain": [
       "<Figure size 1080x540 with 2 Axes>"
      ]
     },
     "metadata": {
      "needs_background": "light"
     },
     "output_type": "display_data"
    }
   ],
   "source": [
    "fig, axes = plt.subplots(nrows=1, ncols=2, figsize=(15, 7.5))\n",
    "axes[0].scatter(\n",
    "    [x[0] for x in u_1.transpose()[:,0].tolist()],\n",
    "    [300-y[0] for y in u_1.transpose()[:,1].tolist()])\n",
    "axes[0].set_xlim([0, 300])\n",
    "axes[0].set_ylim([0, 300])\n",
    "axes[0].set_title(\"First Image\", size=20)\n",
    "axes[0].axis(\"off\")\n",
    "axes[1].scatter(\n",
    "    [x[0] for x in u_2.transpose()[:,0].tolist()],\n",
    "    [300-y[0] for y in u_2.transpose()[:,1].tolist()])\n",
    "axes[1].set_xlim([0, 300])\n",
    "axes[1].set_ylim([0, 300])\n",
    "axes[1].set_title(\"Second Image\", size=20)\n",
    "axes[1].axis(\"off\")\n",
    "plt.show()"
   ]
  },
  {
   "cell_type": "code",
   "execution_count": 28,
   "metadata": {},
   "outputs": [
    {
     "data": {
      "image/png": "[encoded data removed]",
      "text/plain": [
       "<Figure size 1080x540 with 2 Axes>"
      ]
     },
     "metadata": {
      "needs_background": "light"
     },
     "output_type": "display_data"
    }
   ],
   "source": [
    "index = [3, 4]\n",
    "\n",
    "if type(index) is int:\n",
    "    index = list(map(int, str(index)))\n",
    "\n",
    "fig, axes = plt.subplots(nrows=1, ncols=2, figsize=(15, 7.5))\n",
    "axes[0].scatter(\n",
    "    [x[0] for x in u_1.transpose()[:,0].tolist()],\n",
    "    [300-y[0] for y in u_1.transpose()[:,1].tolist()])\n",
    "axes[0].set_xlim([0, 300])\n",
    "axes[0].set_ylim([0, 300])\n",
    "axes[0].set_title(\"First Image\", size=20)\n",
    "axes[0].axis(\"off\")\n",
    "axes[1].scatter(\n",
    "    [x[0] for x in u_2.transpose()[:,0].tolist()],\n",
    "    [300-y[0] for y in u_2.transpose()[:,1].tolist()])\n",
    "for idx in index:\n",
    "    axes[1].scatter(\n",
    "        [x[0] for x in u_2.transpose()[:,0].tolist()][idx],\n",
    "        [300-y[0] for y in u_2.transpose()[:,1].tolist()][idx],\n",
    "        c=\"red\",\n",
    "        s=35\n",
    "    )\n",
    "    l = E * points_2[:,idx]\n",
    "    error = float(points_1[:,idx].transpose() * E * points_2[:,idx])\n",
    "    p_line_0 = H * np.matrix([\n",
    "        [-1],\n",
    "        [float((-l[2]-l[0]*(-1))/l[1])],\n",
    "        [1]\n",
    "    ])\n",
    "    p_line_1 = H * np.matrix([\n",
    "        [1],\n",
    "        [float((-l[2]-l[0])/l[1])],\n",
    "        [1]\n",
    "    ])\n",
    "    axes[0].plot(\n",
    "        (float(p_line_0[0]), float(p_line_1[0])),\n",
    "        (300-float(p_line_0[1]), 300-float(p_line_1[1])),\n",
    "        'r-'\n",
    "    )\n",
    "axes[1].set_xlim([0, 300])\n",
    "axes[1].set_ylim([0, 300])\n",
    "axes[1].set_title(\"Second Image\", size=20)\n",
    "axes[1].axis(\"off\")\n",
    "\n",
    "plt.show()"
   ]
  },
  {
   "cell_type": "code",
   "execution_count": 29,
   "metadata": {
    "scrolled": false
   },
   "outputs": [
    {
     "data": {
      "image/png": "[encoded data removed]",
      "text/plain": [
       "<Figure size 1080x540 with 2 Axes>"
      ]
     },
     "metadata": {
      "needs_background": "light"
     },
     "output_type": "display_data"
    }
   ],
   "source": [
    "fig, axes = plt.subplots(nrows=1, ncols=2, figsize=(15, 7.5))\n",
    "axes[0].scatter(\n",
    "    [x[0] for x in u_1.transpose()[:,0].tolist()],\n",
    "    [300-y[0] for y in u_1.transpose()[:,1].tolist()])\n",
    "axes[0].set_xlim([0, 300])\n",
    "axes[0].set_ylim([0, 300])\n",
    "axes[0].set_title(\"First Image\", size=20)\n",
    "axes[0].axis(\"off\")\n",
    "axes[1].scatter(\n",
    "    [x[0] for x in u_2.transpose()[:,0].tolist()],\n",
    "    [300-y[0] for y in u_2.transpose()[:,1].tolist()])\n",
    "axes[1].set_xlim([0, 300])\n",
    "axes[1].set_ylim([0, 300])\n",
    "axes[1].set_title(\"Second Image\", size=20)\n",
    "axes[1].axis(\"off\")\n",
    "for index in range(0, len(points_2.transpose())):\n",
    "    l = E.transpose() * points_1[:,index]\n",
    "    p_line_0 = H * np.matrix([\n",
    "        [-1],\n",
    "        [float((-l[2]-l[0]*(-1))/l[1])],\n",
    "        [1]\n",
    "    ])\n",
    "    p_line_1 = H * np.matrix([\n",
    "        [1],\n",
    "        [float((-l[2]-l[0])/l[1])],\n",
    "        [1]\n",
    "    ])\n",
    "    axes[1].plot(\n",
    "        (float(p_line_0[0]), float(p_line_1[0])),\n",
    "        (300-float(p_line_0[1]), 300-float(p_line_1[1])),\n",
    "        'ro-'\n",
    "    )\n",
    "plt.show()"
   ]
  },
  {
   "cell_type": "markdown",
   "metadata": {},
   "source": [
    "## The Fundamental Matrix\n",
    "\n",
    "With the Essential Matrix out of the way, we can now talk about the Fundamental Matrix. Before, we had corresponding points between sets of images. We know that the Essential Matrix explains the rotation and translation between these images using these points. Since the rotation and translation produce the Essential Matrix,\n",
    "\n",
    "$$E=[t]_x R\\text{,}$$\n",
    "\n",
    "how do we find the the Essential Matrix with un-normalized image coordinates? The focal length, the camera sensor, and much more are unknown. The coordinates found in the image are only available with the intrinsic camera parameter matrix, $K$.\n",
    "\n",
    "The image coordinates, $p_0$ and $p_1$ were normalized in the past example. We knew the focal length, $Z$. In order to find the normalized image coordinates, we can use the intrinsic camera parameter matrix, \n",
    "\n",
    "$$p=K^{-1}u\\text{,}$$\n",
    "\n",
    "where $u$ are the un-normalized image coordinates. \n",
    "\n",
    "With the un-normalized image coordinates, we can still relate the views in the set of images by using the Fundamental Matrix, $F$. Originally, we had the constraint:\n",
    "\n",
    "$$ p^{T}_{0} E p_{1} = 0 \\text{.}$$\n",
    "\n",
    "Let\n",
    "\n",
    "$$ \n",
    "\\begin{align}\n",
    "p_{1} &= K^{-1} u_{1} \\\\\n",
    "p_{0} &= (K^{-1} u_{0})^{T} \\\\\n",
    "      &= u_{0}^{T}K^{-T}\n",
    "\\end{align}\n",
    "$$\n",
    "\n",
    "so that we can relate the images using un-normalized image coordinates\n",
    "\n",
    "$$\n",
    "u_{0}^{T}K^{-T} E K^{-1} u_{1} = 0 \\text{.}\n",
    "$$\n",
    "\n",
    "The center product is the Fundamental matrix:\n",
    "\n",
    "$$\n",
    "u_{0}^{T} F u_{1} = 0 \\text{.}\n",
    "$$\n",
    "\n",
    "$$\n",
    "F = K^{-T} E K^{-1}\n",
    "$$\n",
    "\n",
    "$$\n",
    "\\begin{pmatrix}x_{0} & y_{0} & 1\\end{pmatrix}\n",
    "\\begin{pmatrix}\n",
    "    F_{11} & F_{12} & F_{13} \\\\\n",
    "    F_{21} & F_{22} & F_{23} \\\\\n",
    "    F_{31} & F_{32} & F_{33}\\end{pmatrix}\n",
    "\\begin{pmatrix}x_{1} \\\\ y_{1} \\\\ 1\\end{pmatrix}\n",
    "=0\n",
    "$$\n",
    "\n",
    "In order to solve for the Fundamental matrix, we can use SVD.\n",
    "\n",
    "---\n",
    "\n",
    "Using the un-normalized points, we can scale and translate the un-normalized points so that the centroid of the un-normalized points is found at the origin. We will repeat the same process as we did with the normalized points, using the un-normalized points."
   ]
  },
  {
   "cell_type": "code",
   "execution_count": 30,
   "metadata": {},
   "outputs": [],
   "source": [
    "x_n = u_1[0:2, :]\n",
    "N = x_n.shape[1]\n",
    "t = np.sum(x_n, axis=1) / N"
   ]
  },
  {
   "cell_type": "markdown",
   "metadata": {},
   "source": [
    "Again, we find the distance from the centroid to all the centered un-normalized points, `dc`. Then, we calculate the scale factor, `s`, that we will use to scale the un-normalized points to have an average distance of $\\sqrt{2}$ from the origin."
   ]
  },
  {
   "cell_type": "code",
   "execution_count": 31,
   "metadata": {},
   "outputs": [],
   "source": [
    "xnc = x_n - t * np.ones((1,N))\n",
    "dc = np.sqrt(np.sum(np.power(xnc, 2).transpose(), axis=1))\n",
    "d_avg = 1 / N * np.sum(dc)\n",
    "s = np.sqrt(2) / d_avg"
   ]
  },
  {
   "cell_type": "markdown",
   "metadata": {},
   "source": [
    "Now we can create the skew-symmetric matrix, $t$, with the scale factor and the distance from the centroid we calculated earlier."
   ]
  },
  {
   "cell_type": "code",
   "execution_count": 32,
   "metadata": {},
   "outputs": [],
   "source": [
    "t_1 = np.zeros((2, 2), float)\n",
    "np.fill_diagonal(t_1, s)\n",
    "t_1 = np.vstack([np.hstack([t_1, -s * t]), [0, 0, 1]])\n",
    "points_1_scaled = t_1 * u_1"
   ]
  },
  {
   "cell_type": "markdown",
   "metadata": {},
   "source": [
    "We repeat the process with the second set of un-normalized points."
   ]
  },
  {
   "cell_type": "code",
   "execution_count": 33,
   "metadata": {},
   "outputs": [],
   "source": [
    "x_n = u_2[0:2, :]\n",
    "N = x_n.shape[1]\n",
    "t = np.sum(x_n, axis=1) / N\n",
    "xnc = x_n - t * np.ones((1,N))\n",
    "dc = np.sqrt(np.sum(np.power(xnc, 2).transpose(), axis=1))\n",
    "d_avg = 1 / N * np.sum(dc)\n",
    "s = np.sqrt(2) / d_avg\n",
    "t_2 = np.zeros((2, 2), float)\n",
    "np.fill_diagonal(t_2, s)\n",
    "t_2 = np.vstack([np.hstack([t_2, -s * t]), [0, 0, 1]])\n",
    "points_2_scaled = t_2 * u_2"
   ]
  },
  {
   "cell_type": "markdown",
   "metadata": {},
   "source": [
    "Now, we assemble the $A$ matrix used for the SVD process."
   ]
  },
  {
   "cell_type": "code",
   "execution_count": 34,
   "metadata": {},
   "outputs": [],
   "source": [
    "A = np.hstack([\n",
    "    np.multiply(points_1_scaled[0,:].transpose(), points_2_scaled[0,:].transpose()),\n",
    "    np.multiply(points_1_scaled[0,:].transpose(), points_2_scaled[1,:].transpose()),\n",
    "    points_1_scaled[0,:].transpose(),\n",
    "    np.multiply(points_1_scaled[1,:].transpose(), points_2_scaled[0,:].transpose()),\n",
    "    np.multiply(points_1_scaled[1,:].transpose(), points_2_scaled[1,:].transpose()),\n",
    "    points_1_scaled[1,:].transpose(),\n",
    "    points_2_scaled[0,:].transpose(),\n",
    "    points_2_scaled[1,:].transpose(),\n",
    "    np.matrix(np.ones(15)).transpose()\n",
    "])"
   ]
  },
  {
   "cell_type": "markdown",
   "metadata": {},
   "source": [
    "Again, we can use SVD to get the last column of `V`."
   ]
  },
  {
   "cell_type": "code",
   "execution_count": 35,
   "metadata": {},
   "outputs": [],
   "source": [
    "U, D, V = np.linalg.svd(A)\n",
    "F_scaled = -np.reshape(V[-1, :].tolist(), (3,3))"
   ]
  },
  {
   "cell_type": "markdown",
   "metadata": {},
   "source": [
    "Now, we can force $rank(F)=2$ and equal Eigenvalues."
   ]
  },
  {
   "cell_type": "code",
   "execution_count": 36,
   "metadata": {},
   "outputs": [],
   "source": [
    "U, D, V = np.linalg.svd(F_scaled)\n",
    "F_scaled = U @ np.diag([1, 1, 0]) @ V\n",
    "F = t_1.transpose() @ F_scaled @ t_2"
   ]
  }
 ],
 "metadata": {
  "kernelspec": {
   "display_name": "Python 3",
   "language": "python",
   "name": "python3"
  },
  "language_info": {
   "codemirror_mode": {
    "name": "ipython",
    "version": 3
   },
   "file_extension": ".py",
   "mimetype": "text/x-python",
   "name": "python",
   "nbconvert_exporter": "python",
   "pygments_lexer": "ipython3",
   "version": "3.6.2+"
  }
 },
 "nbformat": 4,
 "nbformat_minor": 2
}
