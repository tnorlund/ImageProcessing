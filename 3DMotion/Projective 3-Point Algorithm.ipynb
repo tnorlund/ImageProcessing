{
 "cells": [
  {
   "cell_type": "markdown",
   "metadata": {},
   "source": [
    "# Projective 3-Point (P3P) Algorithm or Spatial Resection\n",
    "\n",
    "These notes are from this [video](https://youtu.be/N1aCvzFll6Q)."
   ]
  },
  {
   "cell_type": "markdown",
   "metadata": {},
   "source": [
    "## Camera Localization\n",
    "\n",
    "When we know the 3D coordinates of an object, $\\boldsymbol{\\mathrm{X}}_{i}$, and observe them in an image, $\\boldsymbol{\\mathrm{x}}_{i}$, we can calculate the **extrinsic parameters** of the camera: the rotation, $R$, and translation, $\\boldsymbol{X}_{O}$, with respect to the object. This means that we are using a calibrated camera."
   ]
  },
  {
   "cell_type": "markdown",
   "metadata": {},
   "source": [
    "## Mapping Model\n",
    "\n",
    "Previously we talked about how the **Direct Linear Transform** maps any object point, $\\boldsymbol{\\mathrm{X}}$, to the an image point, $\\boldsymbol{\\mathrm{x}^{\\prime}}$:\n",
    "\n",
    "$$\n",
    "\\begin{align}\n",
    "\\boldsymbol{\\mathrm{x}^{\\prime}}=&\\,\\mathrm{K}R[I_{3}|-\\boldsymbol{X}_{O}]\\boldsymbol{\\mathrm{X}}\\\\\n",
    "=&\\,\\mathrm{P}\\boldsymbol{\\mathrm{X}}\n",
    "\\end{align}\n",
    "$$\n",
    "![DLTMapping-01](assets/DLTMapping-01.png)"
   ]
  },
  {
   "cell_type": "markdown",
   "metadata": {},
   "source": [
    "## Camera Orientation\n",
    "\n",
    "We found that the projection matrix, $P$, contains both the **intrinsic** and **extrinsic parameters** of the given camera. We know that the calibration matrix, $\\mathrm{K}$, describes the **intrinsic parameters** while the **extrinsic parameters** are described by the translation, $\\boldsymbol{X}_{O}$, and rotation, $R$."
   ]
  },
  {
   "cell_type": "markdown",
   "metadata": {},
   "source": [
    "## Projective 3-Point Algorithm\n",
    "\n",
    "We have 6 unknowns found in the translation, $\\boldsymbol{X}_{O}$, and rotation, $R$. This means that we need at least 3 points:\n",
    "$$\n",
    "\\boldsymbol{\\mathrm{X}}_{i}\\quad I\\ge3\\text{.}\n",
    "$$\n",
    "![Gunert_Main](assets/Gunert_Main.png)\n",
    "\n",
    "Given the direction of the individual rays, $^{k}\\boldsymbol{\\mathrm{x}}_{i}^{s}$, we can estimate the distance between the camera and the points in the **object coordinate system**:\n",
    "$$\n",
    "s_{i}\\,^{k}\\boldsymbol{\\mathrm{x}}_{i}^{s}=R(\\boldsymbol{\\mathrm{X}}_{i}-\\boldsymbol{\\mathrm{X}}_{O})\\quad i=1,2,3\\text{.}\n",
    "$$\n",
    "\n",
    "We can calculate the direction of the individual rays, $^{k}\\boldsymbol{\\mathrm{x}}_{i}^{s}$, by ensuring they are point away from the camera:\n",
    "$$\n",
    "^{k}\\boldsymbol{\\mathrm{x}}_{i}^{s} = -\\text{sign}(c)\\mathrm{N}(\\mathrm{K}^{-1}\\boldsymbol{\\mathrm{x}}_{i})\n",
    "$$\n",
    "where\n",
    "$$\n",
    "\\mathrm{N}(\\mathrm{x}) = \\frac{\\mathrm{x}}{|\\mathrm{x}|}\n",
    "$$\n",
    "ensures that the scalar, $s_{i}$, is normalized with respect to the image plane. \n",
    "\n",
    "The first step in the **projective 3-point algorithm** is to calculate the lengths of the individual rays. We can do this by first calculating the angles between the rays:\n",
    "\n",
    "$$\n",
    "\\cos\\gamma=\\frac{(\\boldsymbol{\\mathrm{X}}_{1}-\\boldsymbol{\\mathrm{X}}_{O})\\cdot(\\boldsymbol{\\mathrm{X}}_{2}-\\boldsymbol{\\mathrm{X}}_{O})}{\\left\\Vert \\boldsymbol{\\mathrm{X}}_{1}-\\boldsymbol{\\mathrm{X}}_{O}\\right\\Vert \\left\\Vert \\boldsymbol{\\mathrm{X}}_{2}-\\boldsymbol{\\mathrm{X}}_{O}\\right\\Vert}\n",
    "$$\n",
    "\n",
    "![Gunert_Gamma](assets/Gunert_Gamma.png)\n",
    "\n",
    "and\n",
    "\n",
    "$$\n",
    "\\begin{align}\n",
    "\\alpha =&\\, \\arccos(^{k}\\boldsymbol{\\mathrm{x}}_{2}^{s},\\,^{k}\\boldsymbol{\\mathrm{x}}_{3}^{s})\\\\\n",
    "\\beta =&\\, \\arccos(^{k}\\boldsymbol{\\mathrm{x}}_{3}^{s},\\,^{k}\\boldsymbol{\\mathrm{x}}_{1}^{s})\\\\\n",
    "\\gamma =&\\, \\arccos(^{k}\\boldsymbol{\\mathrm{x}}_{1}^{s},\\,^{k}\\boldsymbol{\\mathrm{x}}_{2}^{s})\\text{.}\n",
    "\\end{align}\n",
    "$$\n",
    "\n",
    "![Gunert_Betta-Alpha](assets/Gunert_Betta-Alpha.png)\n",
    "\n",
    "The next step would be to calculate the side lengths of the $\\boldsymbol{\\mathrm{X}}_{1}$, $\\boldsymbol{\\mathrm{X}}_{2}$, $\\boldsymbol{\\mathrm{X}}_{3}$ triangle. These are known because we know where the points are in the **object coordinate system**:\n",
    "\n",
    "$$\n",
    "\\begin{align}\n",
    "a =&\\, \\left\\Vert \\boldsymbol{\\mathrm{X}}_{3}-\\boldsymbol{\\mathrm{X}}_{2}\\right\\Vert\\\\\n",
    "b =&\\, \\left\\Vert \\boldsymbol{\\mathrm{X}}_{1}-\\boldsymbol{\\mathrm{X}}_{3}\\right\\Vert\\\\\n",
    "c =&\\, \\left\\Vert \\boldsymbol{\\mathrm{X}}_{2}-\\boldsymbol{\\mathrm{X}}_{1}\\right\\Vert\\text{.}\n",
    "\\end{align}\n",
    "$$\n",
    "\n",
    "After calculating the side lengths of the base of the the $\\boldsymbol{\\mathrm{X}}_{1}$, $\\boldsymbol{\\mathrm{X}}_{2}$, $\\boldsymbol{\\mathrm{X}}_{3}$ triangle, we can estimate the lengths of the rays leaving the camera. Let's start by looking at the solution for $s_{1}$ and $s_{2}$ using the $\\boldsymbol{\\mathrm{X}}_{O}$, $\\boldsymbol{\\mathrm{X}}_{1}$, $\\boldsymbol{\\mathrm{X}}_{2}$ triangle:\n",
    "\n",
    "$$\n",
    "s_{1}^{2}+s_{2}^{2}-2\\,s_{1}^{2}s_{2}^{2}\\cos\\gamma=c^{2}\\text{.}\n",
    "$$\n",
    "![Gunert_s1Length](assets/Gunert_s1Length.png)\n",
    "\n",
    "Since we only know $\\gamma$ and $c^{2}$, we must develop a system of linear equations with other known variables:\n",
    "\n",
    "$$\n",
    "\\begin{align}\n",
    "a^{2}=&\\,s_{2}^{2}+s_{3}^{2}-2\\,s_{2}^{2}s_{3}^{2}\\cos\\alpha\\\\\n",
    "b^{2}=&\\,s_{1}^{2}+s_{3}^{2}-2\\,s_{1}^{2}s_{3}^{2}\\cos\\beta\\\\\n",
    "c^{2}=&\\,s_{1}^{2}+s_{2}^{2}-2\\,s_{1}^{2}s_{2}^{2}\\cos\\gamma\\text{.}\n",
    "\\end{align}\n",
    "$$\n",
    "\n",
    "Let's simplify these equations by substituting values. We'll say\n",
    "$$\n",
    "u=\\frac{s_{2}}{s_{1}}\\quad v\\frac{s_{3}}{s_{1}}\n",
    "$$\n",
    "which yields:\n",
    "$$\n",
    "a^{2}=s_{1}^{2} (u^{2}+v^{2}-2uv\\cos\\alpha)\n",
    "$$\n",
    "and can be rewritten as:\n",
    "$$\n",
    "s_{1}^{2}=\\frac{a^{2}}{u^{2}+v^{2}-2uv\\cos\\alpha}\\text{.}\n",
    "$$\n",
    "\n",
    "This method can be applied to the other 2 triangles:\n",
    "$$\n",
    "\\begin{align}\n",
    "s_{1}^{2}=&\\frac{a^{2}}{u^{2}+v^{2}-2uv\\cos\\alpha}\\\\\n",
    "=&\\frac{b^{2}}{1+v^{2}-2v\\cos\\beta}\\\\\n",
    "=&\\frac{c^{2}}{1+u^{2}-2u\\cos\\gamma}\\text{.}\n",
    "\\end{align}\n",
    "$$\n",
    "\n",
    "We can use these equations to solve for $u$:\n",
    "$$\n",
    "A_{4}v^{4}+A_{3}v^{3}+A_{2}v^{2}+A_{1}v+A_{0}=0\n",
    "$$\n",
    "where\n",
    "$$\n",
    "\\begin{align}\n",
    "  A_{4}&=\\left(\\frac{a^{2}-c^{2}}{b^{2}}-1 \\right)^{2}-\\frac{4c^{2}}{b^{2}}\\cos^{2}\\alpha\\\\\n",
    "  A_{3}&=\\begin{aligned}[t]\n",
    "    &\\,4\\bigg[\\frac{a^{2}-c^{2}}{b^{2}} \\left(1-\\frac{a^{2}-c^{2}}{b^{2}} \\right)\\cos\\beta\\\\\n",
    "    &- \\left(1-\\frac{a^{2}+c^{2}}{b^{2}}\\right)\\cos\\alpha\\cos\\gamma + 2\\frac{c^{2}}{b^{2}}\\cos^{2}\\alpha \\cos\\beta  \\bigg]\n",
    "    \\end{aligned}\\\\\n",
    "  A_{2}&=\\begin{aligned}[t]\n",
    "      &\\,2\\bigg[\\left(\\frac{a^{2}-c^{2}}{b^{2}}\\right)^{2} -1+2\\left(\\frac{a^{2}-c^{2}}{b^{2}}\\right)^{2}\\cos^{2}\\beta\\\\\n",
    "      &+2\\left(\\frac{b^{2}-c^{2}}{b^{2}}\\right)\\cos^{2}\\alpha\\\\\n",
    "      &-4\\left(\\frac{a^{2}+c^{2}}{b^{2}}\\right)\\cos\\alpha\\cos\\beta\\cos\\gamma\\\\\n",
    "      &+2\\left(\\frac{b^{2}-a^{2}}{b^{2}}\\right)\\cos^{2}\\gamma\\bigg]\n",
    "       \\end{aligned}\\\\\n",
    "  A_{1} &= \\begin{aligned}[t]\n",
    "      &4\\bigg[-\\left(\\frac{a^{2}-c^{2}}{b^{2}}\\right) \\left(1+\\frac{a^{2}-c^{2}}{b^{2}} \\right)\\cos\\beta\\\\\n",
    "      &+\\frac{2a^{2}}{b^{2}}\\cos^{2}\\cos\\gamma\\cos\\beta\\\\\n",
    "      &-\\left(1-\\left(\\frac{a^{2}+c^{2}}{b^{2}}\\right)\\right)\\cos\\alpha\\cos\\gamma \\bigg]\n",
    "       \\end{aligned}\\\\\n",
    "  A_{0}&=\\left(1+\\frac{a^{2}-c^{2}}{b^{2}}\\right)^{2}-\\frac{4a^{2}}{b^{2}}\\cos^{2}\\gamma\\text{.}\n",
    "\\end{align}\n",
    "$$\n",
    "\n",
    "With $u$, we can solve for $v$ to get $s_{1}$, $s_{2}$, and $s_{3}$:\n",
    "$$\n",
    "\\begin{align}\n",
    "s_{1}^{2}&=\\frac{b^{2}}{1+v^{2}-2v\\cos\\beta}\\\\\n",
    "s_{3}&=vs_{1}\\\\\n",
    "a^{2}&=s_{2}^{2}+s_{3}^{2}-2s_{2}s_{3}\\cos\\alpha \\Rightarrow s_{2}=\\dots\n",
    "\\end{align}\n",
    "$$\n",
    "\n",
    "The issue with this is that this produces 4 possible solutions."
   ]
  },
  {
   "cell_type": "markdown",
   "metadata": {},
   "source": []
  },
  {
   "cell_type": "markdown",
   "metadata": {},
   "source": []
  },
  {
   "cell_type": "markdown",
   "metadata": {},
   "source": []
  },
  {
   "cell_type": "markdown",
   "metadata": {},
   "source": []
  },
  {
   "cell_type": "markdown",
   "metadata": {},
   "source": []
  },
  {
   "cell_type": "markdown",
   "metadata": {},
   "source": []
  },
  {
   "cell_type": "markdown",
   "metadata": {},
   "source": []
  },
  {
   "cell_type": "markdown",
   "metadata": {},
   "source": []
  },
  {
   "cell_type": "markdown",
   "metadata": {},
   "source": []
  },
  {
   "cell_type": "markdown",
   "metadata": {},
   "source": []
  },
  {
   "cell_type": "markdown",
   "metadata": {},
   "source": []
  },
  {
   "cell_type": "markdown",
   "metadata": {},
   "source": []
  }
 ],
 "metadata": {
  "kernelspec": {
   "display_name": "Python 3",
   "language": "python",
   "name": "python3"
  },
  "language_info": {
   "codemirror_mode": {
    "name": "ipython",
    "version": 3
   },
   "file_extension": ".py",
   "mimetype": "text/x-python",
   "name": "python",
   "nbconvert_exporter": "python",
   "pygments_lexer": "ipython3",
   "version": "3.7.7"
  }
 },
 "nbformat": 4,
 "nbformat_minor": 4
}
