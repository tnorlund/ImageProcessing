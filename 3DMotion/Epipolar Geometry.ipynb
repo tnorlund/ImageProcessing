{
 "cells": [
  {
   "cell_type": "markdown",
   "metadata": {},
   "source": []
  },
  {
   "cell_type": "markdown",
   "metadata": {},
   "source": [
    "# Epipolar Geometry and the Essential Matrix (1/2)\n",
    "\n",
    "This is from [this](https://youtu.be/vNG0uJR48XE) video.\n",
    "\n",
    "## Reminder: Fundamental Matrix\n",
    "The fundamental matrix, $F$, includes the rotation, $R$, and translation, $t_{x}$, between two images from uncalibrated cameras. This matrix has 7 degrees of freedom: 5 are from the cameras pose while 2 are the camera's intrinsic values. $F$ is easily computed from $P^{\\prime}$ and $P^{\\prime\\prime}$. This matrix is defined as\n",
    "\n",
    "$$\n",
    "F = (K^{\\prime})^{-T}R^{\\prime}S_{b}(R^{\\prime\\prime})^{T}(K^{\\prime\\prime})^{-1}\\text{.}\n",
    "$$\n",
    "\n",
    "This matrix is found with the **Coplanarity Constraint**:\n",
    "\n",
    "$$\n",
    "x^{\\prime}F x^{\\prime\\prime} = 0\\text{.}\n",
    "$$"
   ]
  },
  {
   "cell_type": "markdown",
   "metadata": {},
   "source": [
    "## Table of Contents\n",
    "\n",
    "1. Introduction\n",
    "2. Essential Matrix\n",
    "3. Popular parameterizations for the relative orientation\n",
    "4. Generating the normalized stereo case from arbitrary views"
   ]
  },
  {
   "cell_type": "markdown",
   "metadata": {},
   "source": [
    "## Epipolar Geometry - Motivation\n",
    "\n",
    "Given a point, $x^{\\prime}$ in the plane of the first image, find the corresponding point, $x^{\\prime\\prime}$  in the second image."
   ]
  },
  {
   "cell_type": "markdown",
   "metadata": {},
   "source": [
    "## Epipolar Geometry\n",
    "\n",
    "**Epipolar geometry** is used to describe the geometric relations in image pairs.\n",
    "\n",
    "This allows for efficient search and predictions of corresponding points by limiting the search space from two dimensions (the entire image) to one dimension (a line).\n",
    "\n",
    "This allows us to map corresponding points much faster!"
   ]
  },
  {
   "cell_type": "markdown",
   "metadata": {},
   "source": [
    "## Important Elements\n",
    "\n",
    "The **Epipolar Axis**, $B=(O^{\\prime}O^{\\prime\\prime})$, is the line through the two projection centers.\n",
    "\n",
    "The **Epipolar Plane**, $\\epsilon = (O^{\\prime}O^{\\prime\\prime}X)$ depends on the projection centers and the corresponding point.\n",
    "\n",
    "The **Epipoles**, $e^{\\prime}=(O^{\\prime\\prime})^{\\prime}$ and $e^{\\prime\\prime}=(O^{\\prime})^{\\prime\\prime}$, are the images of the projection centers.\n",
    "\n",
    "The **Epipolar Lines**, $l^{\\prime}(X)=(O^{\\prime\\prime}X)^{\\prime}$ and $l^{\\prime\\prime}(X)=(O^{\\prime}X)^{\\prime\\prime}$, are the images of the rays, $(O^{\\prime\\prime}X)$ and $(O^{\\prime}X)$, in the other image respectively."
   ]
  },
  {
   "cell_type": "markdown",
   "metadata": {},
   "source": [
    "## Epipoles and Epipolar Lines\n",
    "\n",
    "**Epipoles** can also be written as \n",
    "\n",
    "$$e^{\\prime} = (O^{\\prime}O^{\\prime\\prime}) \\cap \\epsilon^{\\prime} \\,\\,\\,\\, e^{\\prime\\prime} = (O^{\\prime}O^{\\prime\\prime}) \\cap \\epsilon^{\\prime\\prime}$$\n",
    "\n",
    "because they are the intersection of the line that connects the two images centers, $O^{\\prime}$ and $O^{\\prime\\prime}$, and the image planes, $\\epsilon^{\\prime}$ and $\\epsilon^{\\prime\\prime}$.\n",
    "\n",
    "The **epipolar lines** can also be written as \n",
    "\n",
    "$$\n",
    "l^{\\prime}(X)=\\epsilon \\cap \\epsilon^{\\prime} \\,\\,\\,\\, l^{\\prime\\prime}(X)=\\epsilon \\cap \\epsilon^{\\prime\\prime}\n",
    "$$\n",
    "\n",
    "because the **epipolar lines** are the intersection of the **epipolar plane** and the image planes, $\\epsilon^{\\prime}$ and $\\epsilon^{\\prime\\prime}$."
   ]
  },
  {
   "cell_type": "markdown",
   "metadata": {},
   "source": [
    "## Epipolar Plane\n",
    "\n",
    "While using a *distortion-free* lens,\n",
    "- the projection centers $O^{\\prime}$ and $O^{\\prime\\prime}$\n",
    "- the point in the 3D world $X$\n",
    "- the epipolar lines $l^{\\prime}(X)$ and $l^{\\prime\\prime}(X)$\n",
    "- the image points $X^{\\prime}$ and $X^{\\prime\\prime}$\n",
    "\n",
    "all lie on the epipolar plane $\\epsilon$.\n",
    "\n",
    "    This simplifies the task of predicting the location of the corresponding point in the other image."
   ]
  },
  {
   "cell_type": "markdown",
   "metadata": {},
   "source": [
    "## Predicting the Location of Corresponding Points\n",
    "\n",
    "The task at hand is to predict the corresponding point in the second image, $X^{\\prime\\prime}$, given the point in the first image, $X^{\\prime}$. This is made easier by the **epipolar plane**, $\\epsilon = (O^{\\prime}O^{\\prime\\prime}X)$. The intersection of the **epipolar plane**, $\\epsilon$, and the second image plane, $\\epsilon^{\\prime\\prime}$, produce the **epipolar line**, $l^{\\prime\\prime}(X)=(O^{\\prime}X)^{\\prime\\prime}$. The corresponding point, $x^{\\prime\\prime}$, lies on the **epipolar line**, $l^{\\prime\\prime}(X)$.\n",
    "\n",
    "    This reduces the search space from 2D to 1D."
   ]
  },
  {
   "cell_type": "markdown",
   "metadata": {},
   "source": [
    "## Computing the Key Elements of the Epipolar Geometry\n",
    "\n",
    "So far, we have only explained the \"Important Elements\" geometrically. We haven't really talked about how to easily obtain them. These values can be computed based on the **projection matrices** and the **fundamental matrix**."
   ]
  },
  {
   "cell_type": "markdown",
   "metadata": {},
   "source": [
    "## Epipolar Axis\n",
    "\n",
    "The direction of the **epipolar axis** can directly be computed from the projection centers:\n",
    "\n",
    "$$\n",
    "b = X_{O^{\\prime\\prime}} - X_{O^{\\prime}}\\text{.}\n",
    "$$\n",
    "\n",
    "This is a homogeneous vector. This means that there's no scale, but there is a direction."
   ]
  },
  {
   "cell_type": "markdown",
   "metadata": {},
   "source": [
    "## Computing Epipolar Lines\n",
    "The points on the image lie on the **epipolar lines**:\n",
    "\n",
    "$$\n",
    "X^{\\prime} \\in l^{\\prime} \\,\\,\\,\\, X^{\\prime\\prime} \\in l^{\\prime\\prime}\\text{.}\n",
    "$$\n",
    "\n",
    "The point lies on the line when the dot product of a point, $x^{\\prime}$, and a line, $l^{\\prime}$, is zero:\n",
    "\n",
    "$$\n",
    "(x^{\\prime})^{T}l^{\\prime} = 0\\text{.}\n",
    "$$\n",
    "\n",
    "This fact allows us to exploit the **coplanarity constraint** for both points, $x^{\\prime}$ and $x^{\\prime\\prime}$:\n",
    "\n",
    "$$\n",
    "\\begin{align}\n",
    "(x^{\\prime})^{T}F x^{\\prime\\prime} =&\\, 0\\\\\n",
    "(x^{\\prime})^{T}l^{\\prime} =&\\, 0\\text{.}\n",
    "\\end{align}\n",
    "$$\n",
    "\n",
    "This explains the first **epipolar line** as\n",
    "\n",
    "$$\n",
    "l^{\\prime} = F x^{\\prime\\prime}\\text{.}\n",
    "$$\n",
    "\n",
    "The same method can be used for the corresponding point found in the second image, $x^{\\prime\\prime}$:\n",
    "\n",
    "$$\n",
    "(l^{\\prime\\prime})^{T} x^{\\prime\\prime} = 0\\text{.}\n",
    "$$\n",
    "\n",
    "Again, the **coplanarity constraint** is used to exploit this:\n",
    "\n",
    "$$\n",
    "(l^{\\prime\\prime})^{T} = (x^{\\prime})^{T}F\n",
    "$$\n",
    "\n",
    "and\n",
    "\n",
    "$$\n",
    "l^{\\prime\\prime} = F^{T}x^{\\prime}\\text{.}\n",
    "$$\n",
    "\n",
    "    This is the proof that our predictions become limited to 1D."
   ]
  },
  {
   "cell_type": "markdown",
   "metadata": {},
   "source": [
    "## Epipolar Lines Summary\n",
    "\n",
    "- The image points lie on the epipolar lines\n",
    "\n",
    "$$\n",
    "X^{\\prime} \\in l^{\\prime} \\,\\,\\,\\, X^{\\prime\\prime} \\in l^{\\prime\\prime}\\text{.}\n",
    "$$\n",
    "\n",
    "- The corresponding points, $x^{\\prime}$ and $x^{\\prime\\prime}$, can be exploited by the **coplanarity constraint**\n",
    "\n",
    "$$\n",
    "(x^{\\prime})^{T}F x^{\\prime\\prime} = 0\\text{.}\n",
    "$$\n",
    "\n",
    "- This exploitation only works if\n",
    "\n",
    "$$\n",
    "l^{\\prime} = F x^{\\prime\\prime} \\,\\,\\,\\, l^{\\prime\\prime} = F^{T} x^{\\prime}\\text{.}\n",
    "$$\n",
    "\n",
    "- This exploitation works because the points lie on the **epipolar lines**\n",
    "\n",
    "$$\n",
    "(x^{\\prime})^{T}l^{\\prime} = 0 \\,\\,\\,\\, (x^{\\prime\\prime})^{T}l^{\\prime\\prime} = 0\\text{.}\n",
    "$$"
   ]
  },
  {
   "cell_type": "markdown",
   "metadata": {},
   "source": [
    "## Computing the Epipoles\n",
    "Previously, we stated that the epipoles are the projections of the image centers, $O^{\\prime}$ and $O^{\\prime\\prime}$, and the image planes, $\\epsilon^{\\prime}$ and $\\epsilon^{\\prime\\prime}$. The epipoles are easily computed using the projection matrices:\n",
    "\n",
    "$$\n",
    "e^{\\prime} = P^{\\prime}X_{O^{\\prime\\prime}}\\\\\n",
    "e^{\\prime\\prime} = P^{\\prime\\prime}X_{O^{\\prime}}\\text{.}\n",
    "$$\n",
    "\n",
    "This allows us to state that the **epipoles** are the intersection of all **epipolar lines**:\n",
    "\n",
    "$$\n",
    "\\begin{align}\n",
    "\\forall l^{\\prime}&: (e^{\\prime})^{T}l^{\\prime} = 0\\\\\n",
    "\\forall l^{\\prime\\prime}&: (e^{\\prime\\prime})^{T}l^{\\prime\\prime} = 0\\text{.}\n",
    "\\end{align}\n",
    "$$"
   ]
  },
  {
   "cell_type": "markdown",
   "metadata": {},
   "source": [
    "## Epipoles and the Fundamental Matrix\n",
    "\n",
    "Since the **epipoles** are the intersection of all **epipolar lines**,\n",
    "\n",
    "$$\n",
    "\\forall l^{\\prime}: (e^{\\prime})^{T}l^{\\prime} = 0\\\\\n",
    "\\forall l^{\\prime\\prime}: (e^{\\prime\\prime})^{T}l^{\\prime\\prime} = 0\\text{,}\n",
    "$$\n",
    "\n",
    "the **epipole** is the null space of the **fundamental matrix**:\n",
    "\n",
    "$$\n",
    "(e^{\\prime})^{T}F x^{\\prime\\prime} = 0\\text{.}\n",
    "$$\n",
    "\n",
    "The same can be said for the second **epipole**:\n",
    "\n",
    "$$\n",
    "(x^{\\prime})^{T}F e^{\\prime\\prime} = 0\\text{.}\n",
    "$$\n",
    "\n",
    "This can be explained as:\n",
    "\n",
    "$$\n",
    "\\texttt{null}(F^{T}) = e^{\\prime}\n",
    "$$\n",
    "\n",
    "and\n",
    "\n",
    "$$\n",
    "\\texttt{null}(F) = e^{\\prime\\prime}\\text{.}\n",
    "$$"
   ]
  },
  {
   "cell_type": "markdown",
   "metadata": {},
   "source": [
    "## Eigenvectors of F\n",
    "\n",
    "The **epipoles** are the left and right eigenvectors of the fundamental matrix. This means that they correspond to an eigenvalue of zero."
   ]
  },
  {
   "cell_type": "markdown",
   "metadata": {},
   "source": [
    "## Epipolar Geometry Summary\n",
    "\n",
    "- The assumptions of a straight-line between the camera positions can be made when there is a *distortion-free* camera.\n",
    "- The key elements of epipolar geometry are the **epipolar lines**, **axis**, **plane**, and **epipoles**.\n",
    "- Epipolar geometry reduces the search space for corresponding points from 2D space to 1D space."
   ]
  },
  {
   "cell_type": "markdown",
   "metadata": {},
   "source": [
    "# Epipolar Geometry and the Essential Matrix (2/2)\n",
    "\n",
    "This is from [this](https://youtu.be/8pV-1GFsavA) video."
   ]
  },
  {
   "cell_type": "markdown",
   "metadata": {},
   "source": [
    "## Using Calibrated Cameras\n",
    "\n",
    "Calibrated cameras are used in most photogrammetric systems. These calibrated cameras are used because they simplify the process of calculating the orientation. Often, both cameras use the same calibration matrix. The assumption here is that both cameras are *distortion-free*."
   ]
  },
  {
   "cell_type": "markdown",
   "metadata": {},
   "source": []
  },
  {
   "cell_type": "markdown",
   "metadata": {},
   "source": []
  },
  {
   "cell_type": "markdown",
   "metadata": {},
   "source": []
  },
  {
   "cell_type": "markdown",
   "metadata": {},
   "source": []
  },
  {
   "cell_type": "markdown",
   "metadata": {},
   "source": []
  },
  {
   "cell_type": "markdown",
   "metadata": {},
   "source": []
  },
  {
   "cell_type": "markdown",
   "metadata": {},
   "source": []
  },
  {
   "cell_type": "markdown",
   "metadata": {},
   "source": []
  },
  {
   "cell_type": "markdown",
   "metadata": {},
   "source": []
  },
  {
   "cell_type": "markdown",
   "metadata": {},
   "source": []
  },
  {
   "cell_type": "markdown",
   "metadata": {},
   "source": []
  },
  {
   "cell_type": "markdown",
   "metadata": {},
   "source": []
  },
  {
   "cell_type": "markdown",
   "metadata": {},
   "source": []
  },
  {
   "cell_type": "markdown",
   "metadata": {},
   "source": []
  }
 ],
 "metadata": {
  "kernelspec": {
   "display_name": "Python 3",
   "language": "python",
   "name": "python3"
  },
  "language_info": {
   "codemirror_mode": {
    "name": "ipython",
    "version": 3
   },
   "file_extension": ".py",
   "mimetype": "text/x-python",
   "name": "python",
   "nbconvert_exporter": "python",
   "pygments_lexer": "ipython3",
   "version": "3.7.7"
  }
 },
 "nbformat": 4,
 "nbformat_minor": 4
}
