{
 "cells": [
  {
   "cell_type": "markdown",
   "metadata": {},
   "source": [
    "# Triangulation and Absolute Orientation\n",
    "This is from a [video](https://youtu.be/qS7GaaXwW4c) by Stachniss."
   ]
  },
  {
   "cell_type": "markdown",
   "metadata": {},
   "source": [
    "## Motivation\n",
    "\n",
    "Given the relative orientation of two images, compute the points in 3D."
   ]
  },
  {
   "cell_type": "markdown",
   "metadata": {},
   "source": [
    "## Table of Contents\n",
    "\n",
    "**Triangulation**\n",
    "1. Geometric approach\n",
    "2. Stereo normal case\n",
    "3. Quality of the 3D Points\n",
    "\n",
    "**Absolute Orientation**\n",
    "\n",
    "**Discussion of Orientation Solutions**"
   ]
  },
  {
   "cell_type": "markdown",
   "metadata": {},
   "source": [
    "## Geometric Solution\n",
    "\n",
    "![Triangulation-01](assets/Triangulation-01.png)\n",
    "\n",
    "The rays coming out of points $P$ and $Q$ can be written as lines\n",
    "$$\n",
    "\\begin{align}\n",
    "f(\\lambda) =&\\, P + \\lambda \\cdot r \\\\\n",
    "g(\\mu) =&\\, Q + \\mu \\cdot s\n",
    "\\end{align}\n",
    "$$\n",
    "\n",
    "where\n",
    "\n",
    "$$\n",
    "\\begin{align}\n",
    "P=&\\,X_{O^{\\prime}}\\quad r=(R^{\\prime})^{T}\\,^{k}x^{\\prime} \\\\\n",
    "Q=&\\,X_{O^{\\prime\\prime}}\\quad s=(R^{\\prime\\prime})^{T}\\,^{k}x^{\\prime\\prime}\n",
    "\\end{align}\n",
    "$$\n",
    "\n",
    "and \n",
    "\n",
    "$$\n",
    "^{k}x^{\\prime} = (x^{\\prime},y^{\\prime},c)^{T}\\quad ^{k}x^{\\prime\\prime} = (x^{\\prime\\prime},y^{\\prime\\prime},c)^{T}\\text{.}\n",
    "$$\n",
    "\n",
    "The shortest connection between points $F$ and $G$ requires that $\\overline{FG}$ be orthogonal,\n",
    "$$\n",
    "(F - G) \\cdot r = 0 \\quad (F - G) \\cdot s = 0\\text{,}\n",
    "$$\n",
    "which leads to\n",
    "$$\n",
    "\\begin{align}\n",
    "(P + \\lambda \\cdot r - Q + \\mu \\cdot s) \\cdot r =&\\,0 \\\\\n",
    "(P + \\lambda \\cdot r - Q + \\mu \\cdot s) \\cdot s =&\\,0\\text{.}\n",
    "\\end{align}\n",
    "$$\n",
    "\n",
    "If the directions, $\\lambda$ and $\\mu$, are known, we can solve for $F$ and $G$, which yields $H$."
   ]
  },
  {
   "cell_type": "markdown",
   "metadata": {},
   "source": [
    "## Stereo Normal Case\n",
    "\n",
    "We can use triangulation similarly in the stereo normal case.\n",
    "![StereoNormal-02](assets/StereoNormal-02.png)\n",
    "\n",
    "The triangulation will use the plane spanned by the points $x^{\\prime}_{P}$, $x^{\\prime\\prime}_{P}$, and $P$.\n",
    "![StereoNormal-01](assets/StereoNormal-01.png)\n",
    "\n",
    "![StereoNormal-03](assets/StereoNormal-03.png)\n",
    "\n",
    "The $Z$-coordinate can be found from the intercept theorem:\n",
    "$$\\frac{Z}{c} = \\frac{B}{-(x^{\\prime\\prime} - x^{\\prime})} = \\frac{B}{p_{x}}$$\n",
    "where\n",
    "$$Z = c\\frac{B}{-(x^{\\prime\\prime} - x^{\\prime})}\\text{.}$$\n",
    "\n",
    "The $X$-coordinate can be found through the same process:\n",
    "$$\\frac{X}{x^{\\prime}} = \\frac{Z}{c}$$\n",
    "where\n",
    "$$X=x^{\\prime}\\frac{B}{-(x^{\\prime\\prime} - x^{\\prime})}\\text{.}$$\n",
    "\n",
    "First, let's look at the $X,Z$-plane.\n",
    "![Triangulation-02](assets/Triangulation-02.png)\n",
    "\n",
    "The $Y$-coordinate can also be found by the same process,\n",
    "$$\\frac{Y}{X}=\\frac{\\frac{y^{\\prime} + y^{\\prime\\prime}}{2}}{x^{\\prime}}$$\n",
    "where\n",
    "$$Y=\\frac{y^{\\prime}+y^{\\prime\\prime}}{2}\\frac{B}{-(x^{\\prime\\prime}-x^{\\prime)}}\\text{.}$$"
   ]
  },
  {
   "cell_type": "markdown",
   "metadata": {},
   "source": [
    "## Intersection of Two Rays for the Stereo Normal Case\n",
    "\n",
    "We now know that we can solve for the $X$, $Y$, and $Z$ coordinates when using stereo normal calibrated cameras:\n",
    "\n",
    "$$\n",
    "\\begin{align}\n",
    "X=&\\,x^{\\prime}\\frac{B}{-(x^{\\prime\\prime} - x^{\\prime})}\\\\\n",
    "Y=&\\,\\frac{y^{\\prime}+y^{\\prime\\prime}}{2}\\frac{B}{-(x^{\\prime\\prime}-x^{\\prime)}}\\\\\n",
    "Z=&\\,c\\frac{B}{-(x^{\\prime\\prime} - x^{\\prime})}\\text{.}\n",
    "\\end{align}\n",
    "$$\n",
    "\n",
    "The $X$-parallax, $p_{x}=x^{\\prime\\prime}-x^{\\prime}$ corresponds to the depth, $Z$, while the $Y$-parallax, $p_{y}=y^{\\prime\\prime}-y^{\\prime}$, corresponds to the consistency of the image points in the $Y$ direction. These parallaxes are also known as disparity."
   ]
  },
  {
   "cell_type": "markdown",
   "metadata": {},
   "source": [
    "## X-Parallax\n",
    "\n",
    "We can see that the $X$-parallax is the key element in solving for the $X$, $Y$, and $Z$ coordinates. The solutions for each coordinate is relative to the $X$-parallax and the baseline, $B$. Let's combine the ratio and call it the image scale number,\n",
    "$$M=\\frac{-B}{x^{\\prime\\prime}-x^{\\prime}}=\\frac{Z}{c}\\text{,}$$\n",
    "and rewrite our $X$, $Y$, and $Z$ coordinates:\n",
    "$$\n",
    "\\begin{align}\n",
    "X=&\\,Mx^{\\prime}\\\\\n",
    "Y=&\\,M\\frac{y^{\\prime}+y^{\\prime\\prime}}{2}\\\\\n",
    "Z=&\\,Mc\\text{.}\n",
    "\\end{align}\n",
    "$$"
   ]
  },
  {
   "cell_type": "markdown",
   "metadata": {},
   "source": [
    "## Y-Parallax\n",
    "\n",
    "When the $Y$-parallax is zero the solutions for the $X$, $Y$, and $Z$ coordinates is simplified:\n",
    "$$\n",
    "\\begin{align}\n",
    "X=&\\,x^{\\prime}\\frac{B}{-p_{x}}\\\\\n",
    "Y=&\\,y^{\\prime}\\frac{B}{-p_{x}}\\\\\n",
    "Z=&\\,c\\frac{B}{-p_{x}}\\text{.}\n",
    "\\end{align}\n",
    "$$\n",
    "We can rewrite these solutions:\n",
    "$$\n",
    "\\begin{bmatrix}X\\\\Y\\\\Z\\end{bmatrix}=\\begin{bmatrix}-\\frac{B}{-p_{x}}&0&0\\\\0&-\\frac{B}{-p_{x}}&0\\\\0&0&-\\frac{B}{-p_{x}}\\end{bmatrix}\\begin{bmatrix}x^{\\prime}\\\\y^{\\prime}\\\\z^{\\prime}\\end{bmatrix}\\text{.}\n",
    "$$\n",
    "\n",
    "When using homogeneous coordinate and the parallax as an input,\n",
    "$$\n",
    "\\begin{bmatrix}U\\\\V\\\\W\\\\T\\end{bmatrix}=\\begin{bmatrix}B&0&0&0\\\\0&B&0&0\\\\0&0&Bc&0\\\\0&0&0&-1\\end{bmatrix}\\begin{bmatrix}x^{\\prime}\\\\y^{\\prime}\\\\1\\\\p_{x}\\end{bmatrix}\\text{,}\n",
    "$$\n",
    "we can use a set of points $\\{x^{\\prime}, y^{\\prime}\\}$ in the first image, $\\{x^{\\prime}, y^{\\prime}, p_{x}\\}$, to produce a **parallax map**. This **parallax map** yields the 3D coordinates of the point. The inner element only requires the baseline, $B$, and the camera constant, $c$."
   ]
  },
  {
   "cell_type": "markdown",
   "metadata": {},
   "source": [
    "## Quality of the 3D Points\n",
    "\n",
    "What influence the quality of the 3D points obtained in the stereo normal case? \n",
    "1. The quality of the orientation parameters\n",
    "2. The quality of the measured image coordinates\n",
    "\n",
    "Let's take a deeper dive in the quality of the measured image coordinates.\n",
    "\n",
    "Assuming that we measure the image coordinates in $x$ and $y$ with the uncertainty of the $x$ and $y$ image coordinates being equal, $\\sigma_{x^{\\prime}} = \\sigma_{y^{\\prime}}$, we can use the world $X$ and $Y$ coordinates,\n",
    "$$\n",
    "\\begin{align}\n",
    "X=&\\,Mx^{\\prime}\\\\\n",
    "Y=&\\,M\\frac{y^{\\prime}+y^{\\prime\\prime}}{2}\\text{,}\n",
    "\\end{align}\n",
    "$$\n",
    "to produce the uncertainty of world's $X$ and $Y$ coordinates:\n",
    "$$\n",
    "\\begin{align}\n",
    "\\sigma_{X}=&\\,M\\sigma_{x^{\\prime}}=\\frac{Z}{c}\\sigma_{x^{\\prime}}\\\\\n",
    "\\sigma_{Y}=&\\,\\frac{\\sqrt{2}}{2}M\\sigma_{y^{\\prime}}=\\frac{\\sqrt{2}}{2}\\frac{Z}{c}\\sigma_{y^{\\prime}}\\text{.}\n",
    "\\end{align}\n",
    "$$\n",
    "\n",
    "For the point's $Z$-coordinate, we know that\n",
    "$$Z=Mc$$\n",
    "which yields\n",
    "$$Zp_{x}=-Bc\\text{.}$$\n",
    "These relationships can be used to solve for the *relative* precision for the $Z$-coordinate:\n",
    "$$\\frac{\\sigma_{Z}}{Z}=\\frac{\\sigma_{p_{x}}}{p_{x}}\\text{.}$$\n",
    "\n",
    "This shows us that the relative precision of the height is the relative precision of the $x$-parallax.\n",
    "\n",
    "We can rewrite the uncertainty of the $Z$-coordinate to obtain:\n",
    "$$\n",
    "\\sigma_{Z}=\\frac{Z}{p_{x}}\\sigma_{p_{x}} = \\frac{cB}{p_{x}^{2}}\\sigma_{p_{x}}=\\frac{Z^{2}}{cB}\\sigma_{p_{x}}=\\frac{Z}{c \\frac{B}{Z}}\\sigma_{p_{x}}\\text{.}\n",
    "$$\n",
    "\n",
    "The standard deviation of the world's $Z$-coordinate depends:\n",
    "- on the standard deviation of the $x$-parallax, $\\sigma_{p_{x}}$\n",
    "- inversely quadratically on the $x$-parallax, $p_{x}$\n",
    "- quadratically on the depth, $Z$\n",
    "- inversely on the ratio of the base and depth, $\\frac{B}{Z}$\n"
   ]
  },
  {
   "cell_type": "markdown",
   "metadata": {},
   "source": [
    "There is a break halfway through the class [here](https://youtu.be/qS7GaaXwW4c?t=2579)."
   ]
  },
  {
   "cell_type": "markdown",
   "metadata": {},
   "source": [
    "## Relative Orientation\n",
    "\n",
    "The result of the relative orientation is the **photogrammetric model**. This contains the\n",
    "- parameters of the relative orientation of both cameras\n",
    "- 3D coordinates of $N$ points in a local coordinate frame\n",
    "$$\n",
    "^{m}X_{n} = \\left(^{m}X_{n}, ^{m}Y_{n}, ^{m}Z_{n}\\right)^{T}\\quad n=1, \\dots, N\n",
    "$$\n",
    "For calibrated cameras, this is known up to a **similarity transform**."
   ]
  },
  {
   "cell_type": "markdown",
   "metadata": {},
   "source": [
    "## Absolute Orientation\n",
    "\n",
    "This **similarity transform** maps the **photogrammetric model** into the object reference frame:\n",
    "$$\n",
    "^{O}X_{n}=\\lambda R\\,^{m}X_{n}+T\\text{.}\n",
    "$$\n",
    "\n",
    "This gives us seven degrees of freedom for the **similarity transform**:\n",
    "- 3 for rotation\n",
    "- 3 for translation\n",
    "- 1 for scale\n",
    "A fiducial, **control points**, are required to find the absolute orientation."
   ]
  },
  {
   "cell_type": "markdown",
   "metadata": {},
   "source": [
    "## Least Squares Solution\n",
    "\n",
    "There is a non-linear least squares solution for the absolute orientation of the cameras. We needs at least three control points, $X$, $Y$, and $Z$ are known."
   ]
  },
  {
   "cell_type": "markdown",
   "metadata": {},
   "source": [
    "## Sketch of the Solution\n",
    "We want to map corresponding **control points** in the images, $x_{n}$, and the world, $y_{n}$:\n",
    "$$\n",
    "y_{n}=\\lambda R_{x_{n}} - T\\quad n=1,\\dots,N\n",
    "$$\n",
    "with a rotation, $R$, translation, $T$, and a scale, $\\lambda$.\n",
    "\n",
    "We can rewrite this relationship, \n",
    "$$\n",
    "\\begin{align}\n",
    "\\lambda^{\\frac{1}{2}}(y_{n}-y_{O})=&\\,R\\lambda^{\\frac{1}{2}}(x_{n}-x_{O})\\\\\n",
    "b_{n}=&\\,a_{n}\\text{,}\n",
    "\\end{align}\n",
    "$$\n",
    "where the points in the world are $b_{n}$ and $a_{n}$ are the points in the local frame.\n",
    "We can minimize the difference, $\\Phi$, between the world's points and the points in the local frame by a least squares approach:\n",
    "$$\n",
    "\\Phi(x_{O}, \\lambda, R)=\\Sigma[b_{n}-Ra_{n}]^{T}[b_{n}-Ra_{n}]p_{n}\n",
    "$$\n",
    "where $p_{n}$ can weigh some points that we know to be more accurate than others."
   ]
  },
  {
   "cell_type": "markdown",
   "metadata": {},
   "source": [
    "## Minimization\n",
    "\n",
    "After computing the first derivatives,\n",
    "$$\n",
    "\\begin{align}\n",
    "\\frac{\\partial \\Phi}{\\partial x_{O}}=0&\\quad\\rightarrow\\quad x_{O}=\\frac{\\Sigma x_{n}p_{n}}{\\Sigma p_{n}}\\\\\n",
    "\\frac{\\partial \\Phi}{\\partial \\lambda}=0&\\quad\\rightarrow\\quad\n",
    "\\lambda^{2}=\\frac{\n",
    "(y_{n}-y_{O})^{T}(y_{n}-y_{O})p_{n}\n",
    "}{\n",
    "(x_{n}-x_{O})^{T}(x_{n}-x_{O})p_{n}\n",
    "}\\text{,}\n",
    "\\end{align}\n",
    "$$\n",
    "we see that $x_{O}$ is just the centroid weighted with $p_{n}$ and $\\lambda$ is the ratio of the spread of the points in the world, $y_{n}$, and in the images, $x_{n}$.\n",
    "\n",
    "The rotation matrix, $R$, can be found by using **singular value decomposition**:\n",
    "$$\n",
    "H = \\sum_{i=1}^{k}(a_{n}b_{n}^{T})p_{n},\\,\\texttt{SVD}(H)=UDV^{T}\\quad\\rightarrow\\quad R=VU^{T}\\text{.}\n",
    "$$"
   ]
  },
  {
   "cell_type": "markdown",
   "metadata": {},
   "source": [
    "## 2-Step Solution\n",
    "\n",
    "By combining the techniques spoke of previously, we obtain:\n",
    "1. **Relative Orientation** without control points and 3D location of the corresponding points in a local frame\n",
    "2. **Absolute Orientation** of cameras and corresponding points through control points"
   ]
  },
  {
   "cell_type": "markdown",
   "metadata": {},
   "source": [
    "## Control Points\n",
    "\n",
    "There are different types of control points:\n",
    "1. Full control points: $X$, $Y$, and $Z$ are known\n",
    "2. Planimetric control points: $X$ and $Y$ are known\n",
    "3. Height control points: $Z$ is known"
   ]
  },
  {
   "cell_type": "markdown",
   "metadata": {},
   "source": [
    "## Other Orientation Approaches\n",
    "So far, we've spoke of:\n",
    "- Direct linear transform (DLT)\n",
    "- Spatial Resection (P3P, RRS)\n",
    "- Relative orientation\n",
    "- Triangulation\n",
    "- Absolute orientation\n",
    "\n",
    "There *are* other possibilities in solving for the orientation:\n",
    "1. Option 1\n",
    "    - DLT for each camera using control points\n",
    "    - Triangulation for all corresponding points\n",
    "2. Option 2\n",
    "    - P3P for each camera using control points\n",
    "    - Triangulation fo all corresponding points\n",
    "3. Option 3\n",
    "    - One big least squares approach (bundle adjustment)\n"
   ]
  },
  {
   "cell_type": "markdown",
   "metadata": {},
   "source": [
    "## The Best Solution\n",
    "\n",
    "Can we say that there is an approach that is better than the others? "
   ]
  },
  {
   "cell_type": "markdown",
   "metadata": {},
   "source": [
    "## Relevant Properties\n",
    "\n",
    "In order to find the best solution, we must ask a few questions. First, is the solution statistically optimal? When asking this, we must consider the precision of the estimated parameters, the object coordinates, and the orientation. \n",
    "\n",
    "We must also consider the ability we have to check the correspondence of the matching points. This is dependent on the number of points, the redundancy, $R$, on the unknowns, $U$, observations, $N$, and constraints $H$:\n",
    "\n",
    "$$\n",
    "R = N-U+H\\text{.}\n",
    "$$"
   ]
  },
  {
   "cell_type": "markdown",
   "metadata": {},
   "source": [
    "    TODO\n",
    "    - Draw the figure comparing the different points\n",
    "    - Draw the flow diagrams for the different approaches"
   ]
  },
  {
   "cell_type": "markdown",
   "metadata": {},
   "source": []
  },
  {
   "cell_type": "markdown",
   "metadata": {},
   "source": []
  },
  {
   "cell_type": "markdown",
   "metadata": {},
   "source": []
  },
  {
   "cell_type": "markdown",
   "metadata": {},
   "source": []
  },
  {
   "cell_type": "markdown",
   "metadata": {},
   "source": []
  },
  {
   "cell_type": "markdown",
   "metadata": {},
   "source": []
  },
  {
   "cell_type": "markdown",
   "metadata": {},
   "source": []
  },
  {
   "cell_type": "markdown",
   "metadata": {},
   "source": []
  },
  {
   "cell_type": "markdown",
   "metadata": {},
   "source": []
  },
  {
   "cell_type": "markdown",
   "metadata": {},
   "source": []
  }
 ],
 "metadata": {
  "kernelspec": {
   "display_name": "Python 3",
   "language": "python",
   "name": "python3"
  },
  "language_info": {
   "codemirror_mode": {
    "name": "ipython",
    "version": 3
   },
   "file_extension": ".py",
   "mimetype": "text/x-python",
   "name": "python",
   "nbconvert_exporter": "python",
   "pygments_lexer": "ipython3",
   "version": "3.7.7"
  }
 },
 "nbformat": 4,
 "nbformat_minor": 4
}
