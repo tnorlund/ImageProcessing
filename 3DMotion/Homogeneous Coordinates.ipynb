{
 "cells": [
  {
   "cell_type": "markdown",
   "metadata": {},
   "source": [
    "# Homogeneous Coordinates\n",
    "This is from [this](https://youtu.be/ZNB6SpEBnBQ) video."
   ]
  },
  {
   "cell_type": "markdown",
   "metadata": {},
   "source": [
    "## Pinhole Camera Model\n",
    "\n",
    "So why should we talk about Homogeneous coordinates? Homogeneous coordinates are used to explain projective geometry. This coordinate system has the advantage of being able to represent points at infinity using finite coordinates. With this, we can say that our camera is a box with an *infinitesimally* small hole that captures light from the outside world. This also means that the center of the hole, **camera center**, is the intersection of all of the rays of light captured by the camera. Let's say the back of our box that captures the projection is the **image plane** and that the distance between the **camera center** and the **image plane** is the **camera constant**."
   ]
  },
  {
   "cell_type": "markdown",
   "metadata": {},
   "source": [
    "## Properties of the Pinhole Camera\n",
    "\n",
    "The pinhole camera model is line-preserving while not preserving lengths or angles. This means that the straight lines found on the **image plane** corresponds to straight lines found in the real world. The size of objects in the real world is inversely proportional to the distance between the camera and the object. Angles found between lines are different in the real world versus the **image plane**."
   ]
  },
  {
   "cell_type": "markdown",
   "metadata": {},
   "source": [
    "## Central Questions in Photogrammetry\n",
    "\n",
    "- What is the relationship between the object in the real world and the object in the image?\n",
    "- What is the relationship between the points in the image and the rays of light from the object to the camera?\n",
    "- What is the orientation of the camera relative to the objects in the scene?\n",
    "- Can we infer geometry of an object in a given image?"
   ]
  },
  {
   "cell_type": "markdown",
   "metadata": {},
   "source": [
    "## Loss of Information\n",
    "\n",
    "We lose a lot of information when capturing a projection of real world objects using a camera. The real world 3D information can only be recovered with additional information."
   ]
  },
  {
   "cell_type": "markdown",
   "metadata": {},
   "source": [
    "## Vanishing Points\n",
    "\n",
    "Some of the loss of information when capturing a projection of the real world is that parallel lines are no longer parallel. Actually, the mapped parallel lines intersect at what is known as a **vanishing point**. This is a point at *infinity* where the lines lead to. Every direction has exactly one vanishing point. "
   ]
  },
  {
   "cell_type": "markdown",
   "metadata": {},
   "source": [
    "## Advantages of Projective Geometry\n",
    "\n",
    "Projective geometry does not change the geometric relations, and this allows the math to be simpler. The computations can also be done in Euclidean geometry, but the computations in Euclidean geometry become more difficult."
   ]
  },
  {
   "cell_type": "markdown",
   "metadata": {},
   "source": [
    "## Notation\n",
    "\n",
    "**Point**\n",
    "- in homogeneous coordinates $\\boldsymbol{\\mathrm{x}}$\n",
    "- in Euclidean coordinates $\\boldsymbol{x}$\n",
    "\n",
    "**Line**\n",
    "- in homogeneous coordinates $\\boldsymbol{\\mathrm{l}}$\n",
    "\n",
    "**Plane**\n",
    "- in homogeneous coordinates $\\boldsymbol{\\mathrm{A}}$\n",
    "\n",
    "**2D** vs. **3D** space\n",
    "- lowercase = 2D\n",
    "- uppercase = 3D"
   ]
  },
  {
   "cell_type": "markdown",
   "metadata": {},
   "source": [
    "## Homogeneous Coordinates\n",
    "\n",
    "Homogeneous coordinates are a system of coordinates used in projective geometry. The formulas used in photogrammetry are often simpler in homogeneous coordinates because points at infinity can be represented using finite coordinates. This allows us to use single matrices to represent affine and projective transformations. \n",
    "\n",
    "**Definition**\n",
    "\n",
    "The representation $\\boldsymbol{\\mathrm{x}}$ of a geometric object is **homogeneous** if $\\boldsymbol{\\mathrm{x}}$ and $\\lambda\\boldsymbol{\\mathrm{x}}$ represent the same object for $\\lambda \\ne 0$. The homogeneous coordinates of a point $\\mathcal{x}$ in the plane $\\mathbb{R}^{2}$ is a 3-dimensional vector:\n",
    "$$\n",
    "\\mathcal{x}: \\boldsymbol{\\mathrm{x}} = \\begin{bmatrix}u\\\\v\\\\w\\end{bmatrix}\n",
    "$$\n",
    "with\n",
    "$$\n",
    "|\\boldsymbol{\\mathrm{x}}|^{2} = u^{2}+v^{2}+w^{2}\\ne0\\text{.}\n",
    "$$\n",
    "Another way to write the point $\\mathcal{x}$ in Euclidean coordinates would be\n",
    "$$\n",
    "\\mathcal{x}: \\boldsymbol{\\mathrm{x}} = \\begin{bmatrix}\\frac{u}{w}\\\\\\frac{v}{w}\\end{bmatrix}\n",
    "$$\n",
    "with\n",
    "$$\n",
    "w\\ne0\\text{.}\n",
    "$$\n",
    "\n",
    "**Example**\n",
    "\n",
    "- Homogeneous\n",
    "$$\n",
    "\\boldsymbol{\\mathrm{x}} = \\lambda\\boldsymbol{\\mathrm{x}}\n",
    "$$\n",
    "\n",
    "- Euclidean\n",
    "$$\n",
    "\\boldsymbol{x} \\ne \\lambda\\boldsymbol{x}\n",
    "$$\n",
    "\n",
    "Homogeneous coordinates use a $n+1$ dimensional vector to represent the same $n$-dimensional point.\n",
    "\n",
    "$$\n",
    "\\boldsymbol{x}=\\begin{bmatrix}x\\\\y\\end{bmatrix}\n",
    "\\rightarrow\n",
    "\\boldsymbol{\\mathrm{x}}=\\begin{bmatrix}x\\\\y\\\\1\\end{bmatrix}\n",
    "$$\n",
    "\n",
    "$$\n",
    "\\boldsymbol{\\mathrm{x}} = \\begin{bmatrix}u\\\\v\\\\w\\end{bmatrix}=w\\begin{bmatrix}\\frac{u}{w}\\\\\\frac{v}{w}\\\\1\\end{bmatrix}=\\begin{bmatrix}\\frac{u}{w}\\\\\\frac{v}{w}\\\\1\\end{bmatrix}=\\begin{bmatrix}x\\\\y\\\\1\\end{bmatrix}\n",
    "$$\n",
    "\n",
    "![HomogeneousCoordiantes-01](assets/HomogeneousCoordiantes-01.png)\n"
   ]
  },
  {
   "cell_type": "markdown",
   "metadata": {},
   "source": [
    "## Homogeneous Coordinates (3D Points)\n",
    "\n",
    "We can apply the same method for points in 3D Euclidean space $\\mathbb{R}^{3}$:\n",
    "\n",
    "$$\n",
    "\\boldsymbol{\\mathrm{X}} = \\begin{bmatrix}U\\\\V\\\\W\\\\T\\end{bmatrix} = \\begin{bmatrix}\\frac{U}{T}\\\\\\frac{V}{T}\\\\\\frac{W}{T}\\\\1\\end{bmatrix}\\rightarrow \\begin{bmatrix}\\frac{U}{T}\\\\\\frac{V}{T}\\\\\\frac{W}{T}\\end{bmatrix}\n",
    "$$"
   ]
  },
  {
   "cell_type": "markdown",
   "metadata": {},
   "source": [
    "## Representations of Lines\n",
    "\n",
    "As a reminder, there are a few ways to represent lines:\n",
    "1. Hesse normal\n",
    "$$x \\cos \\phi + y \\sin \\phi - d = 0$$\n",
    "2. Intercept\n",
    "$$\\frac{x}{x_{0}}+\\frac{y}{y_{0}}=1\\quad\\frac{x}{x_{0}}+\\frac{y}{y_{0}}-1=0$$\n",
    "3. Standard\n",
    "$$ax+by+c=0$$\n",
    "\n",
    "After looking at these different representations of lines, we know that all of these equal $0$. So we can represent the point,\n",
    "$$\\mathrm{x}=\\begin{bmatrix}x\\\\y\\\\1\\end{bmatrix}\\text{,}$$\n",
    "in Hesse normal form,\n",
    "$$\\mathrm{l}=\\begin{bmatrix}\\cos\\phi\\\\\\sin\\phi\\\\-d\\end{bmatrix}\\text{,}$$\n",
    "intercept form,\n",
    "$$\\mathrm{l}=\\begin{bmatrix}\\frac{1}{x_{0}}\\\\\\frac{1}{y_{0}}\\\\-1\\end{bmatrix}\\text{,}$$\n",
    "or standard form,\n",
    "$$\\mathrm{l}=\\begin{bmatrix}a\\\\b\\\\c\\end{bmatrix}\\text{.}$$\n",
    "These different forms allow use to find whether a point lies on a line:\n",
    "$$\n",
    "\\mathrm{x}\\cdot\\mathrm{l}=\\mathrm{x}^{T}\\mathrm{l}=\\mathrm{l}^{T}\\mathrm{x}=0\\text{.}\n",
    "$$\n",
    "\n",
    "**Definition**\n",
    "\n",
    "The homogeneous coordinates of a line $\\mathcal{l}$ in the plane $\\mathbb{R}^{2}$ is a 3-dimensional vector:\n",
    "$$\\mathcal{l}: \\boldsymbol{\\mathrm{l}} = \\begin{bmatrix}l_{1}\\\\l_{2}\\\\l_{3}\\end{bmatrix}$$\n",
    "with\n",
    "$$|\\boldsymbol{\\mathrm{l}}|^{2} = l_{1}^{2}+l_{2}^{2}+l_{3}^{2}\\ne0\\text{.}$$\n",
    "Another way to write the line $\\mathcal{l}$ in Euclidean coordinates would be\n",
    "$$l_{1}x+l_{2}y+l_{3}=0\\text{.}$$"
   ]
  },
  {
   "cell_type": "markdown",
   "metadata": {},
   "source": [
    "## Cramer's Rule\n",
    "\n",
    "Cramer's rule allows us to easily solve a system of linear equations:\n",
    "$$A\\boldsymbol{x}=\\boldsymbol{b}\\quad x_{i}=\\frac{\\text{det}(A_{i})}{\\text{det}(A)}$$\n",
    "with $A_{i}$ being the matrix in which the $i$th is replaced by $\\boldsymbol{b}$."
   ]
  },
  {
   "cell_type": "markdown",
   "metadata": {},
   "source": [
    "## Intersecting Lines\n",
    "\n",
    "Given two lines $\\mathcal{l}$, $\\mathcal{m}$ expressed in homogeneous coordinates, we can find the intersecting point:\n",
    "$$x=\\mathcal{l}\\cap\\mathcal{m}\\text{.}$$\n",
    "Now this is really easy to prove because we've already learned that lines can be represented as equations equal to zero:\n",
    "$$\\begin{align}x^{T}\\mathcal{l}=&\\,0\\\\x^{T}\\mathcal{m}=&\\,0\\text{.}\\end{align}$$\n",
    "We can simplify this even more by combining these equations into a system of linear equations:\n",
    "$$\n",
    "\\begin{align}\n",
    "&\\begin{bmatrix}\\mathrm{l}\\cdot\\mathrm{x}\\\\\\mathrm{m}\\cdot\\mathrm{x}\\end{bmatrix}=\\begin{bmatrix}0\\\\0\\end{bmatrix}\\\\\n",
    "&\\begin{bmatrix}l_1&l_2\\\\m_1&m_2\\end{bmatrix}\\begin{bmatrix}x\\\\y\\end{bmatrix}=\\begin{bmatrix}-l_{3}\\\\-m_{3}\\end{bmatrix}\\text{.}\n",
    "\\end{align}\n",
    "$$\n",
    "We can use Cramer's rule to solve for both $x$ and $y$:\n",
    "$$x = \\frac{D_{1}}{D_{3}}\\quad y = \\frac{D_{2}}{D_{3}}$$\n",
    "where\n",
    "$$\n",
    "\\begin{align}\n",
    "D_{1}=&\\,l_{2}m_{3}-l_{3}m_{2}\\\\\n",
    "D_{2}=&\\,l_{3}m_{1}-l_{1}m_{3}\\\\\n",
    "D_{3}=&\\,l_{1}m_{2}-l_{2}m_{1}\\text{.}\n",
    "\\end{align}\n",
    "$$\n",
    "We can express Cramer's rule in vector form as\n",
    "$$\n",
    "\\boldsymbol{\\mathrm{l}}\\times\\boldsymbol{\\mathrm{m}}=\\boldsymbol{\\mathrm{D}}=\\frac{1}{D_{3}}\\boldsymbol{\\mathrm{D}}=\\boldsymbol{\\mathrm{x}}\\text{.}\n",
    "$$"
   ]
  },
  {
   "cell_type": "markdown",
   "metadata": {},
   "source": [
    "## Line Between Two Points\n",
    "\n",
    "Luckily, homogeneous coordinates give us a simple way to computer a line through two points. Let's say that there is a line, $l$, between points $x$ and $y$:\n",
    "$$l = x\\wedge y\\text{.}$$\n",
    "We can use systems of linear equations to solve for the line:\n",
    "$$\n",
    "\\begin{align}\n",
    "&\\begin{bmatrix}\\mathrm{x}\\cdot\\mathrm{l}\\\\\\mathrm{y}\\cdot\\mathrm{l}\\end{bmatrix}=\\begin{bmatrix}0\\\\0\\end{bmatrix}\\\\\n",
    "&\\begin{bmatrix}x_{1}&x_{2}\\\\y_{1}&y_{2}\\end{bmatrix}\\begin{bmatrix}l_{1}\\\\l_{2}\\end{bmatrix}=\\begin{bmatrix}-x_{3}l_{3}\\\\-y_{3}l_{3}\\end{bmatrix}\\text{.}\n",
    "\\end{align}\n",
    "$$\n",
    "Again, we can use Cramer's rule to solve for both $l_{1}$ and $l_{2}$:\n",
    "$$l_{1} = \\frac{D_{1}}{D_{3}}\\quad l_{2} = \\frac{D_{2}}{D_{3}}$$\n",
    "where\n",
    "$$\n",
    "\\begin{align}\n",
    "D_{1}=&\\,l_{3}(x_{2}y_{3}-y_{2}x_{3})\\\\\n",
    "D_{2}=&\\,l_{3}(x_{3}y_{1}-y_{3}x_{1})\\\\\n",
    "D_{3}=&\\,x_{1}y_{2}-x_{2}y_{1}\\text{.}\n",
    "\\end{align}\n",
    "$$\n",
    "This process results in \n",
    "$$\n",
    "\\boldsymbol{\\mathrm{l}}=\\begin{bmatrix}\\frac{D_{1}}{D_{3}}&\\frac{D_{2}}{D_{3}}&l_{3}\\frac{D_{3}}{D_{3}}\\end{bmatrix}^{T}=\\frac{D_{3}}{D_{3}}\\begin{bmatrix}x_{2}y_{3}-y_{2}x_{3}\\\\x_{3}y_{1}-y_{3}x_{1}\\\\x_{1}y_{2}-x_{2}y_{1}\\end{bmatrix}\\text{.}\n",
    "$$\n",
    "Again, we can express Cramer's rule in vector form as\n",
    "$$\\boldsymbol{\\mathrm{l}}=\\boldsymbol{\\mathrm{x}}\\times\\boldsymbol{\\mathrm{y}}\\text{.}$$"
   ]
  },
  {
   "cell_type": "markdown",
   "metadata": {},
   "source": [
    "## Summary\n",
    "\n",
    "Homogeneous coordinates make the relationships between points and lines in space much easier. We can tell if a point lies on a line:\n",
    "$$\\boldsymbol{\\mathrm{x}}\\cdot \\boldsymbol{\\mathrm{l}}=0\\text{.}$$\n",
    "We can easily find the intersection of two lines:\n",
    "$$\\boldsymbol{\\mathrm{x}}=\\boldsymbol{\\mathrm{l}}\\times\\boldsymbol{\\mathrm{m}}\\text{.}$$\n",
    "We can also find the line between two points:\n",
    "$$\\boldsymbol{\\mathrm{l}}=\\boldsymbol{\\mathrm{x}}\\times\\boldsymbol{\\mathrm{y}}\\text{.}$$"
   ]
  },
  {
   "cell_type": "markdown",
   "metadata": {},
   "source": [
    "## Points at Infinity\n",
    "\n",
    "Homogeneous coordinates allow us to represent points at infinity with finite coordinates. Given a direction, $u$ and $v$, we can map a point infinitely far away:\n",
    "$$\\boldsymbol{\\mathrm{x}}_{\\infty}=\\begin{bmatrix}u\\\\v\\\\0\\end{bmatrix}\\text{.}$$\n",
    "This allows us to maintain direction with a point that's infinitely far away."
   ]
  },
  {
   "cell_type": "markdown",
   "metadata": {},
   "source": [
    "## Intersection at Infinity\n",
    "\n",
    "We know that all lines meet at one point at infinity in homogeneous coordinates. Let's say that lines $l$ and $m$ are parallel.\n",
    "$$\n",
    "l\\times m=\\begin{bmatrix}a\\\\b\\\\c\\end{bmatrix}\\times\\begin{bmatrix}a\\\\b\\\\d\\end{bmatrix}=\\begin{bmatrix}bd-bc\\\\ac-ad\\\\ab-ab\\end{bmatrix}=\\begin{bmatrix}bd-bc\\\\ac-ad\\\\0\\end{bmatrix}\n",
    "$$"
   ]
  },
  {
   "cell_type": "markdown",
   "metadata": {},
   "source": [
    "## Infinitely Distant Objects\n",
    "An infinitely distant point,\n",
    "$$\\boldsymbol{\\mathrm{x}}_{\\infty}=\\begin{bmatrix}u\\\\v\\\\0\\end{bmatrix}\\text{,}$$\n",
    "can be expressed in Homogeneous coordinates. An infinitely distant line,\n",
    "$$\\boldsymbol{\\mathrm{l}}_{\\infty}=\\begin{bmatrix}0\\\\0\\\\1\\end{bmatrix}\\text{,}$$\n",
    "can also be expressed in Homogeneous coordinates. This infinitely distant line is the **ideal line** and is commonly referred to as the horizon.\n",
    "\n",
    "We can say that all objects on the horizon are infinitely far away because they lie on the **ideal line**:\n",
    "$$\\boldsymbol{\\mathrm{x}}_{\\infty}\\cdot\\boldsymbol{\\mathrm{l}}_{\\infty}=\\begin{bmatrix}u\\\\v\\\\0\\end{bmatrix}\\cdot\\begin{bmatrix}0\\\\0\\\\1\\end{bmatrix}=0\\text{.}$$"
   ]
  },
  {
   "cell_type": "markdown",
   "metadata": {},
   "source": [
    "## Transformations\n",
    "\n",
    "Homogeneous coordinates allow us to perform projective transformations. These projective transformations are invertible linear mappings:\n",
    "$$\\boldsymbol{\\mathrm{X}}^{\\prime}=\\mathrm{H}\\boldsymbol{\\mathrm{X}}\\text{.}$$\n",
    "\n",
    "This can be used as a translation:\n",
    "$$\\mathrm{H}=\\lambda\\begin{bmatrix}I&\\mathrm{t}\\\\\\boldsymbol{0}^{T}&1\\end{bmatrix}$$\n",
    "where\n",
    "$$\n",
    "\\begin{align}\n",
    "I=&\\,\\begin{bmatrix}1&0&0\\\\0&1&0\\\\0&0&1\\end{bmatrix}\\text{,}\\\\\n",
    "\\mathrm{t}=&\\,\\begin{bmatrix}t_{x}\\\\t_{y}\\\\t_{z}\\end{bmatrix}\\text{,}\\\\\n",
    "\\boldsymbol{0}=&\\,\\begin{bmatrix}0\\\\0\\\\0\\end{bmatrix}\\text{.}\n",
    "\\end{align}\n",
    "$$\n",
    "This can also be used as a rotation:\n",
    "$$\\mathrm{H}=\\lambda\\begin{bmatrix}R&\\boldsymbol{0}\\\\\\boldsymbol{0}^{T}&1\\end{bmatrix}$$\n",
    "where\n",
    "$$R^{2D}(\\theta)=\\begin{bmatrix}\\cos(\\theta)&-\\sin(\\theta)\\\\\\sin(\\theta)&\\cos(\\theta)\\end{bmatrix}$$\n",
    "or\n",
    "$$\n",
    "\\begin{align}\n",
    "R_{x}^{3D}(\\omega)=&\\,\\begin{bmatrix}1&0&0\\\\0&\\cos(\\omega)&-\\sin(\\omega)\\\\0&\\sin(\\omega)&\\cos(\\omega)\\end{bmatrix}\\\\\n",
    "R_{y}^{3D}(\\phi)=&\\,\\begin{bmatrix}\\cos{\\phi}&0&\\sin(\\phi)\\\\0&1&0\\\\-\\sin(\\phi)&0&\\cos(\\phi)\\end{bmatrix}\\\\\n",
    "R_{z}^{3D}(\\kappa)=&\\,\\begin{bmatrix}\\cos(\\kappa)&-\\sin(\\kappa)\\\\0&\\sin(\\kappa)&\\cos(\\kappa)&0\\\\0&0&1\\end{bmatrix}\\\\\n",
    "\\end{align}\n",
    "$$\n",
    "with\n",
    "$$\n",
    "R^{3D}(\\omega, \\phi, \\kappa)=R_{z}^{3D}(\\kappa)R_{y}^{3D}(\\phi)R_{x}^{3D}(\\omega)\\text{.}\n",
    "$$\n",
    "\n",
    "We can combine these two transformations to produce a rigid body transformation:\n",
    "$$\\mathrm{H}=\\lambda\\begin{bmatrix}R&\\mathrm{t}\\\\\\boldsymbol{0}^{T}&1\\end{bmatrix}\\text{.}$$\n",
    "\n",
    "We can scale the rigid body transformation to produce the similarity transformation that uses 7 parameters:\n",
    "$$\\mathrm{H}=\\lambda\\begin{bmatrix}mR&\\mathrm{t}\\\\\\boldsymbol{0}^{T}&1\\end{bmatrix}\\text{.}$$\n",
    "\n",
    "We can also use the affine transformation that translates, rotates, scales, and sheers:\n",
    "$$\\mathrm{H}=\\lambda\\begin{bmatrix}A&\\mathrm{t}\\\\\\boldsymbol{0}^{T}&1\\end{bmatrix}\\text{.}$$\n",
    "\n",
    "Finally, we can use the projective transformation that uses the 12 parameters that the affine transformation uses with an additional 3 that determine the projective properties:\n",
    "$$\\mathrm{H}=\\lambda\\begin{bmatrix}A&\\mathrm{t}\\\\\\boldsymbol{\\mathrm{a}}^{T}&1\\end{bmatrix}\\text{.}$$"
   ]
  },
  {
   "cell_type": "markdown",
   "metadata": {},
   "source": [
    "## Inverting and Chaining\n",
    "Transformations can be inverted and chained together. In order to \"undo\" or invert the changes done by the matrix, we use its inverse:\n",
    "$$\n",
    "\\begin{align}\n",
    "\\boldsymbol{\\mathrm{X}}^{\\prime}=&\\,\\mathrm{H}\\boldsymbol{\\mathrm{X}}\\\\\n",
    "\\boldsymbol{\\mathrm{X}}=&\\,\\mathrm{H}^{-1}\\boldsymbol{\\mathrm{X}}^{\\prime}\\text{.}\n",
    "\\end{align}\n",
    "$$\n",
    "Matrix transformations can also be chained together,\n",
    "$$\n",
    "\\boldsymbol{\\mathrm{X}}^{\\prime}=\\mathrm{H}_{1}\\mathrm{H}_{2}\\boldsymbol{\\mathrm{X}}\\text{,}\n",
    "$$\n",
    "but the products are not commutative:\n",
    "$$\n",
    "\\begin{align}\n",
    "\\boldsymbol{\\mathrm{X}}^{\\prime}=&\\,\\mathrm{H}_{1}\\mathrm{H}_{2}\\boldsymbol{\\mathrm{X}}\\\\\n",
    "\\ne&\\,\\mathrm{H}_{2}\\mathrm{H}_{1}\\boldsymbol{\\mathrm{X}}\\text{.}\n",
    "\\end{align}\n",
    "$$"
   ]
  },
  {
   "cell_type": "markdown",
   "metadata": {},
   "source": [
    "## Fundamental Theorem of Projective Geometry\n",
    "\n",
    "Every one-to-one, straight-line preserving mapping of projective space $\\mathbb{P}^{n}$ onto itself is a homography (projectivity) for $2\\le n < \\infty$.\n",
    "\n",
    "This means that one-to-one, straight-line preserving transformations, the ones used in photogrammetry, are linear if we use projective coordinates, homogeneous coordinates."
   ]
  },
  {
   "cell_type": "markdown",
   "metadata": {},
   "source": [
    "## Conclusion\n",
    "\n",
    "We learned that Homogeneous coordinates are an alternative representation for geometric objects that simplify mathematical expressions. These coordinates help us model points at infinity by modeling through an extra dimension.  Although the Homogeneous coordinates are only equivalent up to scale, these coordinates allow us to easily chain and invert geometric transformations."
   ]
  }
 ],
 "metadata": {
  "kernelspec": {
   "display_name": "Python 3",
   "language": "python",
   "name": "python3"
  },
  "language_info": {
   "codemirror_mode": {
    "name": "ipython",
    "version": 3
   },
   "file_extension": ".py",
   "mimetype": "text/x-python",
   "name": "python",
   "nbconvert_exporter": "python",
   "pygments_lexer": "ipython3",
   "version": "3.7.7"
  }
 },
 "nbformat": 4,
 "nbformat_minor": 4
}
