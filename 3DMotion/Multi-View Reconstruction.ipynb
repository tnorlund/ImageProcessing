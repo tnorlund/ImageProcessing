{
 "cells": [
  {
   "cell_type": "markdown",
   "metadata": {},
   "source": [
    "# Multi-View Reconstruction (Bundle Adjustment)\n",
    "\n",
    "This is from a [video](https://youtu.be/jXHkuiJ4mVQ) by Stachniss"
   ]
  },
  {
   "cell_type": "markdown",
   "metadata": {},
   "source": [
    "## Table of Contents\n",
    "1. Bundle Adjustment\n",
    "2. Key Properties\n",
    "3. Numeric of the Bundle Adjustment"
   ]
  },
  {
   "cell_type": "markdown",
   "metadata": {},
   "source": [
    "## Why Mutli-view Reconstruction?\n",
    "\n",
    "Multiple images are needed to cover the entire surface of an object and have higher precision. A higher level of detail can be obtained with higher precision. Multi-view reconstructions allow the estimations of motion while also mapping the surrounding environment: **SLAM** (simultaneous localization and mapping)."
   ]
  },
  {
   "cell_type": "markdown",
   "metadata": {},
   "source": [
    "## Bundle Block Adjustment\n",
    "\n",
    "Bundle Adjustment is used as the least squares solution for orienting two images and measured points. This allows multiple images to be corrected simultaneously."
   ]
  },
  {
   "cell_type": "markdown",
   "metadata": {},
   "source": [
    "## Aerial Triangulation\n",
    "\n",
    "Aerial Triangulation is the task of estimating the 3D location of points using aerial images with known camera parameters. Bundle Adjustment is on of the best solutions for this problem."
   ]
  },
  {
   "cell_type": "markdown",
   "metadata": {},
   "source": [
    "## Bundle Adjustment Details\n",
    "\n",
    "Bundle Adjustment can be formulated through different images, indexed by $j$, and different image coordinates, indexed by $i$, with a correction of $\\hat{v}$:\n",
    "$$\n",
    "^{a}{x}^{\\prime}_{ij} + ^{a}\\hat{v}_{x^{\\prime}_{ij}} = \\hat{\\lambda}_{ij}\\,^{a}\\hat{P}_{j}(x_{ij}, p, q)\\hat{X}_{i}\n",
    "$$\n",
    "with\n",
    "$$\n",
    "\\Sigma_{x_{ij}x_{ij}}\\quad i=1,\\dots,I_{j};j=1,\\dots,J\\text{.}\n",
    "$$\n",
    "Note that the image coordinates, $^{a}{x}^{\\prime}_{ij}$, and the corrections, $^{a}\\hat{v}_{x^{\\prime}_{ij}}$, are arbitrary, meaning that the cameras do not need to be calibrated. \n",
    "\n",
    "This equation is used to solve for the 3D point in the world, $\\hat{X}_{i}$, the projection of said point onto the image, $^{a}\\hat{P}_{j}$, and a scale factor, $\\hat{\\lambda_{ij}}$. The projection depends on the corresponding point, $x_{ij}$, projection parameters, $p$, and the non-linear corrections needed for the camera, $q$.\n",
    "\n",
    "The uncertainty, $\\Sigma_{x_{ij}x_{ij}}$, uses the number of images, $j=1,\\dots,J$, and number of points in the specific image, $i=1,\\dots,I_{j}$.\n",
    "\n",
    "This equation encodes the projection from the 3D world to the image coordinate system and the **coplanarity constraint**.\n",
    "\n",
    "Unknowns\n",
    "- 3D locations of new points, $\\hat{X_{i}}$\n",
    "- 1D scale factor $\\hat{\\lambda_{ij}}$\n",
    "- 6D exterior orientation\n",
    "- 5D projection parameters\n",
    "- Non-linear distortion parameters, $q$\n",
    "\n",
    "This formulation can be split into the camera's calibration (interior orientation), $\\hat{K}(x_{ij}, \\hat{p}, \\hat{q})$, and the exterior orientation, $\\hat{R}_{j}[I_{3}|-\\hat{X}_{0j}]$:\n",
    "$$\n",
    "\\begin{align}\n",
    "^{a}{x}^{\\prime}_{ij} + ^{a}\\hat{v}_{x^{\\prime}_{ij}} =&\\,\\hat{\\lambda}_{ij}\\,^{a}\\hat{P}_{j}(x_{ij}, p, q)\\hat{X}_{i} \\\\\n",
    "=&\\,\\hat{\\lambda}_{ij}\\hat{K}(x_{ij}, \\hat{p}, \\hat{q}) \\hat{R}_{j}[I_{3}|-\\hat{X}_{0j}]\\hat{X}_{i}\n",
    "\\end{align}\n",
    "$$"
   ]
  },
  {
   "cell_type": "markdown",
   "metadata": {},
   "source": [
    "## Eliminating the Scale Factor\n",
    "\n",
    "We can eliminate the per-point scale factor by using Euclidean coordinates (instead of homogeneous coordinates):\n",
    "$$\n",
    "\\begin{align}\n",
    "^{a}{x}^{\\prime}_{ij} + ^{a}\\hat{v}_{x^{\\prime}_{ij}} =&\\,\\hat{\\lambda}_{ij}\\,^{a}\\hat{P}_{j}(x_{ij}, p, q)\\hat{X}_{i} \\\\\n",
    "=&\\,\\frac{^{a}\\widehat{P_{1:2j}}(x_{ij}, p, q)\\hat{X}_{i}}{^{a}\\widehat{P_{3j}}(x_{ij}, p, q)\\hat{X}_{i}}\\text{.}\n",
    "\\end{align}\n",
    "$$"
   ]
  },
  {
   "cell_type": "markdown",
   "metadata": {},
   "source": [
    "## Setting Up and Solving the System of Normal Equations\n",
    "\n",
    "We can set up the normal equations to solve for the unknowns, $u$, using the observations, $x$:\n",
    "$$A^{T}\\Sigma^{-1}A\\Delta u = A^{T}\\Sigma^{-1}\\Delta x\\text{.}$$\n",
    "The normal equations yield an estimate,\n",
    "$$\\widehat{\\Delta u} = (A^{T}\\Sigma^{-1}A)^{-1}A^{T}\\Sigma^{-1}\\Delta x$$\n",
    "and the corrections,\n",
    "$$\\hat{v}=A\\widehat{\\Delta u} - \\Delta x\\text{.}$$"
   ]
  },
  {
   "cell_type": "markdown",
   "metadata": {},
   "source": [
    "## Control Points\n",
    "\n",
    "Although some of the recorded points are control points, should we treat them as noisy or noise-free?\n",
    "\n",
    "The provided coordinates of the control points, ${X}^{\\prime}_{i}$, can be used with a correction, $\\hat{v}_{X^{\\prime}_{i}}$, to produce the estimations of the control points's coordinates, $\\hat{X}_{i}$:\n",
    "$${X}_{i} + \\hat{v}_{X_{i}} = \\hat{X}_{i}$$\n",
    "with\n",
    "$$\\Sigma_{X_{i}X_{i}}\\quad i=1,\\dots,I_{CP}$$\n",
    "where $I_{CP}$ is the number of control points."
   ]
  },
  {
   "cell_type": "markdown",
   "metadata": {},
   "source": [
    "## Two Step Bundle Adjustment for Control Points\n",
    "\n",
    "1. Setup\n",
    "    - Bundle Adjustment with noisy control points\n",
    "    - Search for gross errors using statistical tests\n",
    "$$T = \\hat{v}^{T}_{X_{i}}\\Sigma_{\n",
    "\\hat{v}_{X_{i}}\n",
    "\\hat{v}_{X_{i}}\n",
    "}\\hat{v}_{X_{i}} \\sim x^{2}_{3}\n",
    "$$\n",
    "    - Eliminate erroneous control points\n",
    "2. Bundle Adjustment\n",
    "    - Bundle Adjustment with fixed control points\n",
    "    \n",
    "Another way to word this would be to:\n",
    "- Use Bundle Adjustment with fixed control points to enforce the geometry to match the control points.\n",
    "- Used if the control points cannot be changed\n",
    "- This is a suboptimal approach. We must consider noisy control points for an optimal solution."
   ]
  },
  {
   "cell_type": "markdown",
   "metadata": {},
   "source": [
    "## Optimality\n",
    "\n",
    "We know that Bundle Adjustment is statistically optimal because it exploits all observations and considers the uncertainties and correlations: all available information. This allows for the computation of orientations, calibration, parameters, and point locations with high precision. This method requires an initial estimate and assumes a Gaussian distribution."
   ]
  },
  {
   "cell_type": "markdown",
   "metadata": {},
   "source": [
    "## Gross Errors and Outliers\n",
    "\n",
    "We can incorrectly match corresponding points and measure the control points. Both of these lead to errors.\n",
    "\n",
    "We need at least 4 images to identify an observation with a gross error. Observed points from 5 to 6 different views yield good estimates. "
   ]
  },
  {
   "cell_type": "markdown",
   "metadata": {},
   "source": [
    "## How Many Control Points?\n",
    "\n",
    "For the direct linear transformation or P3P solutions, we need 3-6 control points per image pair. "
   ]
  },
  {
   "cell_type": "markdown",
   "metadata": {},
   "source": [
    "## Initial Guess\n",
    "\n",
    "No direct solution is known for $N$ views."
   ]
  },
  {
   "cell_type": "markdown",
   "metadata": {},
   "source": [
    "## Fully Automated Approaches\n",
    "\n",
    "There are software solutions for the fully automated solution for Bundle Adjustment"
   ]
  },
  {
   "cell_type": "markdown",
   "metadata": {},
   "source": [
    "    TODO\n",
    "    - Add additional slides"
   ]
  },
  {
   "cell_type": "markdown",
   "metadata": {},
   "source": [
    "## Noise in the Observations\n",
    "\n",
    "With perfect conditions, correct function model and no gross errors, we know that the variance factor, $\\sigma_{l_{i}}$, and the initial variance $\\hat{\\sigma}_{0}$, yields a variance vector:\n",
    "$$\\hat{\\sigma}_{l_{i}} = \\hat{\\sigma}_{0}\\sigma_{l_{i}}\\text{.}$$\n",
    "With this, we know that the Bundle Adjustment yields the most realistic variance vector, $\\hat{\\sigma}_{l_{i}}$."
   ]
  },
  {
   "cell_type": "markdown",
   "metadata": {},
   "source": [
    "## Precision\n",
    "\n",
    "We can compute a theoretical precision,\n",
    "$$\\Sigma_{\\hat{x}\\hat{x}} = (A^{T}\\Sigma_{ll}^{-1}A)^{-1}\\text{,}$$\n",
    "but the variance vector allows us to calculate an empirical precision:\n",
    "$$\\hat{\\Sigma}_{\\hat{x}\\hat{x}} = \\hat{\\sigma}_{0}^{2}(A^{T}\\Sigma_{ll}^{-1}A)^{-1}\\text{.}$$\n"
   ]
  },
  {
   "cell_type": "markdown",
   "metadata": {},
   "source": [
    "There's a second [video](https://youtu.be/LhWUwzYcZuw) that's missing the last half of the lecture."
   ]
  },
  {
   "cell_type": "markdown",
   "metadata": {},
   "source": [
    "## Coefficient Matrix\n",
    "\n",
    "Originally, we had a linear equation expressing the corrections, $v$, and the change in points, $l$,\n",
    "$$\\Delta l + v = a \\Delta x\\text{.}$$\n",
    "\n",
    "If we rewrite $\\Delta x$,\n",
    "$$\\Delta x = \\begin{bmatrix}\\Delta k \\\\ \\Delta t \\end{bmatrix}\\text{,}$$\n",
    "we can produce a linear equations that takes into consideration the point coordinates, $\\Delta k$, and the rotation coordinate, $\\Delta t$, ,\n",
    "$$\\Delta l + v = \\begin{bmatrix}C & B\\end{bmatrix}\\begin{bmatrix}\\Delta k \\\\ \\Delta t\\end{bmatrix} = C \\Delta k + B \\Delta t\\text{.}$$\n",
    "\n",
    "This equation allows us to look at the error in every observation:\n",
    "$$\\Delta l_{ij} + v_{ij} = A^{T}_{ij}\\Delta x = C^{T}_{ij} \\Delta k_{i} + \\Delta B^{T}_{ij} \\Delta t_{j}$$\n",
    "where $A^{T}_{ij}$ is a $2\\times N$ matrix, $C^{T}_{ij}$ is a $2\\times 3$ matrix, and $\\Delta B^{T}_{ij}$ is a $2\\times 6$ matrix."
   ]
  },
  {
   "cell_type": "markdown",
   "metadata": {},
   "source": [
    "    Last half of lecture is missing"
   ]
  },
  {
   "cell_type": "markdown",
   "metadata": {},
   "source": []
  },
  {
   "cell_type": "markdown",
   "metadata": {},
   "source": []
  },
  {
   "cell_type": "markdown",
   "metadata": {},
   "source": []
  },
  {
   "cell_type": "markdown",
   "metadata": {},
   "source": []
  },
  {
   "cell_type": "markdown",
   "metadata": {},
   "source": []
  }
 ],
 "metadata": {
  "kernelspec": {
   "display_name": "Python 3",
   "language": "python",
   "name": "python3"
  },
  "language_info": {
   "codemirror_mode": {
    "name": "ipython",
    "version": 3
   },
   "file_extension": ".py",
   "mimetype": "text/x-python",
   "name": "python",
   "nbconvert_exporter": "python",
   "pygments_lexer": "ipython3",
   "version": "3.7.7"
  }
 },
 "nbformat": 4,
 "nbformat_minor": 4
}
