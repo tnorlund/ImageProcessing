{
 "cells": [
  {
   "cell_type": "markdown",
   "metadata": {},
   "source": [
    "# Recursive State Estimation Based on Bayes Filter\n",
    "\n",
    "These notes are based on a [video](https://youtu.be/W6eZ-idcHI4) by Stachniss."
   ]
  },
  {
   "cell_type": "markdown",
   "metadata": {},
   "source": [
    "## State Estimation\n",
    "Estimate the state $x$ of a system given observations $z$ and controls $u$:\n",
    "$$p(x|z,u)\\text{.}$$"
   ]
  },
  {
   "cell_type": "markdown",
   "metadata": {},
   "source": [
    "## Recursive Bayes Filter\n",
    "\n",
    "First, we start with a belief and a normalization constant, $\\eta$:\n",
    "\n",
    "$$\n",
    "\\begin{align}\n",
    "\\texttt{bel}(x_{t})=&\\,p(x_{t}|z_{1:t},u_{1:t})\\\\\n",
    "=&\\,\\eta p(z_{t}|x_{t}, z_{1:t-1},u_{1:t})p(x_{t}|z_{1:t-1},u_{1:t})\n",
    "\\text{.}\n",
    "\\end{align}\n",
    "$$\n",
    "\n",
    "Given that we know what's happened in the past ($z_{1:t-1},u_{1:t}$), we must remind ourselves that the past observations should not determine the current state, $x_{t}$:\n",
    "$$\n",
    "\\begin{align}\n",
    "\\texttt{bel}(x_{t})=&\\,\\eta p(z_{t}|x_{t}, z_{1:t-1},u_{1:t})p(x_{t}|z_{1:t-1},u_{1:t})\\\\\n",
    "=&\\,\\eta p(z_{t}|x_{t})p(x_{t}|z_{1:t-1},u_{1:t})\n",
    "\\text{.}\n",
    "\\end{align}\n",
    "$$\n",
    "\n",
    "Now probability theory shows us that we can add the previous state, $x_{t}$, by integrating the joint probability of the observations and state:\n",
    "$$\n",
    "\\begin{align}\n",
    "\\texttt{bel}(x_{t})=&\\,\\eta p(z_{t}|x_{t})p(x_{t}|z_{1:t-1},u_{1:t})\\\\\n",
    "=&\\,\\eta p(z_{t}|x_{t})\\int p(x_{t}|x_{t-1},z_{1:t-1},u_{1:t})p(x_{t-1}|z_{1:t-1},u_{1:t})\\,dx_{t-1}\n",
    "\\text{.}\n",
    "\\end{align}\n",
    "$$\n",
    "We already know what the previous states of $x$ were, so we can use the Markov assumption:\n",
    "$$\n",
    "\\begin{align}\n",
    "\\texttt{bel}(x_{t})=&\\,\\eta p(z_{t}|x_{t})\\int p(x_{t}|x_{t-1},z_{1:t-1},u_{1:t})p(x_{t-1}|z_{1:t-1},u_{1:t})\\,dx_{t-1}\\\\\n",
    "=&\\,\\eta p(z_{t}|x_{t})\\int p(x_{t}|x_{t-1},u_{1:t})p(x_{t-1}|z_{1:t-1},u_{1:t})\\,dx_{t-1}\n",
    "\\text{.}\n",
    "\\end{align}\n",
    "$$\n",
    "Now let's make an assumption that the controls, $u_{1:t}$, do not change over time using the Independence assumption:\n",
    "$$\n",
    "\\begin{align}\n",
    "\\texttt{bel}(x_{t})=&\\,\\eta p(z_{t}|x_{t})\\int p(x_{t}|x_{t-1},u_{1:t})p(x_{t-1}|z_{1:t-1},u_{1:t})\\,dx_{t-1}\\\\\n",
    "=&\\,\\eta p(z_{t}|x_{t})\\int p(x_{t}|x_{t-1},u_{1:t})p(x_{t-1}|z_{1:t-1},u_{1:t-1})\\,dx_{t-1}\n",
    "\\text{.}\n",
    "\\end{align}\n",
    "$$\n",
    "After applying the Independence assumption, we can rewrite the last term as a recursive call to our belief:\n",
    "$$\n",
    "\\begin{align}\n",
    "\\texttt{bel}(x_{t})=&\\,\\eta p(z_{t}|x_{t})\\int p(x_{t}|x_{t-1},u_{1:t})p(x_{t-1}|z_{1:t-1},u_{1:t-1})\\,dx_{t-1}\\\\\n",
    "=&\\,\\eta p(z_{t}|x_{t})\\int p(x_{t}|x_{t-1},u_{1:t})\\texttt{bel}(x_{t-1})\\,dx_{t-1}\n",
    "\\text{.}\n",
    "\\end{align}\n",
    "$$"
   ]
  },
  {
   "cell_type": "markdown",
   "metadata": {},
   "source": [
    "## Prediction and Correction Step\n",
    "\n",
    "The recursive Bayes filter spoken of previously is typically separated into two steps:\n",
    "1. Prediction Step\n",
    "$$\\overline{\\texttt{bel}}(x_{t}) = \\int p(x_{t}|x_{t-1},u_{1:t})\\texttt{bel}(x_{t-1})\\,dx_{t-1}$$\n",
    "2. Correction Step\n",
    "$$\\texttt{bel}(x_{t})=\\eta p(z_{t}|x_{t})\\overline{\\texttt{bel}}(x_{t})$$"
   ]
  },
  {
   "cell_type": "markdown",
   "metadata": {},
   "source": []
  },
  {
   "cell_type": "markdown",
   "metadata": {},
   "source": []
  },
  {
   "cell_type": "markdown",
   "metadata": {},
   "source": []
  },
  {
   "cell_type": "markdown",
   "metadata": {},
   "source": []
  },
  {
   "cell_type": "markdown",
   "metadata": {},
   "source": []
  },
  {
   "cell_type": "markdown",
   "metadata": {},
   "source": []
  },
  {
   "cell_type": "markdown",
   "metadata": {},
   "source": []
  },
  {
   "cell_type": "markdown",
   "metadata": {},
   "source": []
  },
  {
   "cell_type": "markdown",
   "metadata": {},
   "source": []
  },
  {
   "cell_type": "markdown",
   "metadata": {},
   "source": []
  },
  {
   "cell_type": "markdown",
   "metadata": {},
   "source": []
  },
  {
   "cell_type": "markdown",
   "metadata": {},
   "source": []
  },
  {
   "cell_type": "markdown",
   "metadata": {},
   "source": []
  },
  {
   "cell_type": "markdown",
   "metadata": {},
   "source": []
  }
 ],
 "metadata": {
  "kernelspec": {
   "display_name": "Python 3",
   "language": "python",
   "name": "python3"
  },
  "language_info": {
   "codemirror_mode": {
    "name": "ipython",
    "version": 3
   },
   "file_extension": ".py",
   "mimetype": "text/x-python",
   "name": "python",
   "nbconvert_exporter": "python",
   "pygments_lexer": "ipython3",
   "version": "3.7.7"
  }
 },
 "nbformat": 4,
 "nbformat_minor": 4
}
