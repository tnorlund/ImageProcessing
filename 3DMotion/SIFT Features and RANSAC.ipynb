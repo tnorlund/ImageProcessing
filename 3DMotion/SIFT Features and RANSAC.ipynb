{
 "cells": [
  {
   "cell_type": "markdown",
   "metadata": {},
   "source": [
    "# SIFT Features and RANSAC\n",
    "\n",
    "These notes are based on a [video](https://youtu.be/oT9c_LlFBqs) by Stachniss"
   ]
  },
  {
   "cell_type": "markdown",
   "metadata": {},
   "source": [
    "## Keypoint Detection and Feature Description\n",
    "\n",
    "A **keypoint** is an image location at which a description is computed.\n",
    "\n",
    "The feature **descriptor** summarizes the local structure around the keypoint."
   ]
  },
  {
   "cell_type": "markdown",
   "metadata": {},
   "source": [
    "## Popular Feature Extractors\n",
    "- **SIFT**: scale invariant feature transform\n",
    "- **SURF**: speeded-up oriented gradients\n",
    "- **HOG**: histogram of oriented gradients\n",
    "- **GLOH**: gradient location and orientation histogram"
   ]
  },
  {
   "cell_type": "markdown",
   "metadata": {},
   "source": [
    "## Keypoints\n",
    "\n",
    "The purpose of the **keypoints** is to look for \"locally distinct\" points. The procedure for finding the keypoints is\n",
    "1. Gaussian smoothing\n",
    "2. Difference-of-Guassians: find extrema (over smoothing scales)\n",
    "3. maxima suppression at edges"
   ]
  },
  {
   "cell_type": "markdown",
   "metadata": {},
   "source": [
    "## Difference of Gaussians\n",
    "\n",
    "We can subtract differently blurred images that use Gaussian kernels. This only keeps the frequencies between the blur level of both images while filtering out the high-frequencies. This is similar to a \"band-pass\" filter. "
   ]
  },
  {
   "cell_type": "markdown",
   "metadata": {},
   "source": [
    "## Extrema Supression\n",
    "\n",
    "The **Difference of Gaussains** finds blob-like and corner-like image structures, but it also leads to strong responses along edges. Edges have a degree of freedom in their correspondence-solution. Multiple or orthogonal edges are required for an edge's solution. **SIFT** uses a criterion based on the ratio between the eigenvalues of the Hessian."
   ]
  },
  {
   "cell_type": "markdown",
   "metadata": {},
   "source": [
    "## SIFT Descriptor\n",
    "\n",
    "Image content is transformed into features that are invariant to image translation, image rotation, and scale with the **SIFT** feature extractor. The image's content is partially invariant to illumination changes and affine or 3D projection. This is a good approach for mobile robots in order to detect visual landmarks from different angles, distances, and illumination."
   ]
  },
  {
   "cell_type": "markdown",
   "metadata": {},
   "source": [
    "## SIFT Features\n",
    "\n",
    "A **SIFT** feature is given by a vector computed at a local extreme point in the scale space:\n",
    "$$\\langle p, s, r, f \\rangle$$\n",
    "where $p$ is the location in the image, $s$ is the scale, $r$ is the orientation, and $f$ is a 128-dimensional descriptor generated from the local image gradients.\n",
    "\n",
    "The procedure is\n",
    "1. Compute the image gradients in local $16 \\times 16$ area at the selected scale\n",
    "2. Create an array of orientation histograms\n",
    "3. Use the 8 orientations with the $4 \\times 4$ histogram array to produce a 128-dimensional descriptor"
   ]
  },
  {
   "cell_type": "markdown",
   "metadata": {},
   "source": [
    "## Correspondence Problem\n",
    "\n",
    "Choosing correspondences only based on descriptor differences will lead to some wrong matches."
   ]
  },
  {
   "cell_type": "markdown",
   "metadata": {},
   "source": [
    "There is a break in the lecture [here](https://youtu.be/oT9c_LlFBqs?t=2621)."
   ]
  },
  {
   "cell_type": "markdown",
   "metadata": {},
   "source": [
    "## RANdom SAmple Consensus\n",
    "\n",
    "**RANSAC** is an approach to deal with the outliers in the correspondence problem. This approach finds the best partition of points in the inlier and outlier sets and estimates a model based on the inlier set. This has become the standard approach for dealing with outliers. "
   ]
  },
  {
   "cell_type": "markdown",
   "metadata": {},
   "source": [
    "## RANSAC Algorithm\n",
    "\n",
    "The **RANSAC** algorithm is fairly simple:\n",
    "1. **Sample** the number of data points required to fit the model\n",
    "2. **Computer** the model parameters using the sampled data points\n",
    "3. **Score** by the fraction of inliers within a preset threshold of the model\n",
    "\n",
    "We then repeat this process until the best model is found with the highest confidence."
   ]
  },
  {
   "cell_type": "markdown",
   "metadata": {},
   "source": [
    "## How to Chose the Parameters?\n",
    "\n",
    "With a number of sampled points, $s$, and an outlier ratio, $e=\\frac{\\text{#outliers}}{\\text{#datapoints}}$, produces the probability of $s$ points being free of outliers:\n",
    "$$(1-e)^s\\text{.}$$\n",
    "\n",
    "This equation can also explain the probability of failing $T$ times:\n",
    "$$(1-(1-e)^{s})^{T}\\text{.}$$\n",
    "\n",
    "Another way of wording this is that this is the probability of not finding the correct corresponding points.\n",
    "\n",
    "In order to find the number of trails, $T$, required for a specific probability, $p$, we can rewrite the equation:\n",
    "$$T =\\frac{\\texttt{log}(1-p)}{\\texttt{log}(1-(1-e)^{s})} \\text{.}$$"
   ]
  },
  {
   "cell_type": "markdown",
   "metadata": {},
   "source": [
    "    TODO\n",
    "    - Draw pictures and notes for \"Odometry Model\""
   ]
  },
  {
   "cell_type": "markdown",
   "metadata": {},
   "source": []
  },
  {
   "cell_type": "markdown",
   "metadata": {},
   "source": []
  },
  {
   "cell_type": "markdown",
   "metadata": {},
   "source": []
  },
  {
   "cell_type": "markdown",
   "metadata": {},
   "source": []
  },
  {
   "cell_type": "markdown",
   "metadata": {},
   "source": []
  },
  {
   "cell_type": "markdown",
   "metadata": {},
   "source": []
  },
  {
   "cell_type": "markdown",
   "metadata": {},
   "source": []
  },
  {
   "cell_type": "markdown",
   "metadata": {},
   "source": []
  }
 ],
 "metadata": {
  "kernelspec": {
   "display_name": "Python 3",
   "language": "python",
   "name": "python3"
  },
  "language_info": {
   "codemirror_mode": {
    "name": "ipython",
    "version": 3
   },
   "file_extension": ".py",
   "mimetype": "text/x-python",
   "name": "python",
   "nbconvert_exporter": "python",
   "pygments_lexer": "ipython3",
   "version": "3.7.7"
  }
 },
 "nbformat": 4,
 "nbformat_minor": 4
}
