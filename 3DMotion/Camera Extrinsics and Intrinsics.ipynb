{
 "cells": [
  {
   "cell_type": "markdown",
   "metadata": {},
   "source": [
    "# Camera Extrinsics and Intrinsics\n",
    "\n",
    "This is from [this](https://youtu.be/DX2GooBIESs) video."
   ]
  },
  {
   "cell_type": "markdown",
   "metadata": {},
   "source": [
    "## Motivation\n",
    "\n",
    "For estimating the geometry of the scene based on images, we need to understand the image acquisition."
   ]
  },
  {
   "cell_type": "markdown",
   "metadata": {},
   "source": [
    "## Coordinate Systems\n",
    "- **World/Object coordinate system**, $S_{O}$\n",
    "\n",
    "written as: $[X, Y, Z]^{T}$\n",
    "- **Camera coordinate system**, $S_{k}$\n",
    "\n",
    "written as: $[^{k}X,\\,^{k}Y,\\,^{k}Z]^{T}$\n",
    "- **Image (Plane) coordinate system**, $S_{c}$\n",
    "\n",
    "written as: $[^{c}x,\\,^{c}y]^{T}$\n",
    "- **Sensor coordinate system**, $S_{s}$\n",
    "\n",
    "written as: $[^{s}x,\\,^{s}y]^{T}$"
   ]
  },
  {
   "cell_type": "markdown",
   "metadata": {},
   "source": [
    "## Transformation\n",
    "\n",
    "We want to compute the mapping,\n",
    "$$\n",
    "\\begin{bmatrix}^{s}x\\\\^{s}y\\\\1\\end{bmatrix}=\\,^{s}H_{c}\\,^{c}H_{k}\\,^{k}H_{O}\\begin{bmatrix}X\\\\Y\\\\Z\\\\1\\end{bmatrix}\\text{,}\n",
    "$$\n",
    "where the left hand side of the equation is the sensor system, $S_{s}$, and the right hand side of the equation is constructed with the object coordinate system, $S_{O}$, and different mappings: the image coordinate system to the sensor coordinate system, $^{s}H_{c}$, the camera coordinate system to the image coordinate system, $\\,^{c}H_{k}$, and the object coordinate system to the camera coordinate system $\\,^{k}H_{O}$.\n",
    "\n",
    "![CameraIntrinsics-01](assets/CameraIntrinsics-01.png)\n",
    "\n",
    "After looking at the image, we see that the *directions* of $x$ and $y$ in the camera and image coordinate systems are the same. The only difference is that the image coordinate system has a different origin. This origin let's us explain that the image coordinates are some distance, $c$, away from the camera:\n",
    "$$\n",
    "^{k}O_{c}=\\,^{k}[0, 0, -c]^{T}\\text{.}\n",
    "$$\n",
    "![CameraIntrinsics-02](assets/CameraIntrinsics-02.png)"
   ]
  },
  {
   "cell_type": "markdown",
   "metadata": {},
   "source": [
    "    TODO\n",
    "    - Create block diagrams for the different transformations"
   ]
  },
  {
   "cell_type": "markdown",
   "metadata": {},
   "source": [
    "## Extrinsic and Intrinsic Parameters\n",
    "\n",
    "**Extrinsic parameters** describe the pose of the camera in the real world.\n",
    "\n",
    "**Intrinsic parameters** describe the mapping of the scene in front of the camera to the pixels in the image."
   ]
  },
  {
   "cell_type": "markdown",
   "metadata": {},
   "source": [
    "## Extrinsic Parameters\n",
    "\n",
    "The extrinsic parameters express the pose of the camera in the real world. This pose consists of the position and heading (direction) of the camera with respect to the world. This can be expressed as a rigid body transformation, and this transformation is invertible.\n",
    "\n",
    "We can express the transformation with 6 variables: 3 for the position and 3 for the heading.\n",
    "\n",
    "A point, $\\mathcal{P}$, can be expressed with coordinates in the world coordinates,\n",
    "$$\\boldsymbol{X}_{\\mathcal{P}} = [X_{\\mathcal{P}}, Y_{\\mathcal{P}}, Z_{\\mathcal{P}}]^{T}\\text{,}$$\n",
    "while the origin of the camera frame, $O$, can be expressed in the world coordinates,\n",
    "$$\n",
    "\\boldsymbol{X}_{O} = [X_{O}, Y_{O}, Z_{O}]^{T}\\text{.}\n",
    "$$"
   ]
  },
  {
   "cell_type": "markdown",
   "metadata": {},
   "source": [
    "## Transformation\n",
    "\n",
    "The camera coordinate system can be transformed into the object coordinate system. This transformation has both a translation and a rotation. The translation is between the origin of the world frame and the camera frame:\n",
    "$$\n",
    "\\boldsymbol{X}_{O} = [X_{O}, Y_{O}, Z_{O}]^{T}\\text{.}\n",
    "$$\n",
    "The rotation, $R$, is from the object coordinate system, $S_{O}$, to the camera coordinate system, $S_{k}$. Using Euclidean coordinates, this yields\n",
    "$$\n",
    "^{k}\\boldsymbol{X}_{\\mathcal{P}} = R(\\boldsymbol{X}_{\\mathcal{P}} - \\boldsymbol{X}_{O})\\text{.}\n",
    "$$\n",
    "\n",
    "So the point, $\\boldsymbol{X}_{\\mathcal{P}}$, is translated from the camera origin, $\\boldsymbol{X}_{O}$, and rotated some amount. This allows us to map the point from the object coordinate system, $S_{O}$, to the camera coordinate system, $S_{k}$."
   ]
  },
  {
   "cell_type": "markdown",
   "metadata": {},
   "source": [
    "## Transformation in Homogeneous Coordinates\n",
    "\n",
    "We can express the Euclidean transformation in homogeneous coordinates:\n",
    "$$\n",
    "\\begin{align}\n",
    "\\begin{bmatrix}^{k}\\boldsymbol{X}_{\\mathcal{P}}\\\\\\boldsymbol{1}\\end{bmatrix} =& \\begin{bmatrix}R&\\boldsymbol{0}\\\\\\boldsymbol{0}^{T}&1\\end{bmatrix}\n",
    "\\begin{bmatrix}I_{3}&-\\boldsymbol{X}_{O}\\\\\\boldsymbol{0}^{T}&1\\end{bmatrix} \\begin{bmatrix}\\boldsymbol{X}_{\\mathcal{P}}\\\\\\boldsymbol{1}\\end{bmatrix}\\\\\n",
    "=& \\begin{bmatrix}R&-R\\boldsymbol{X}_{O}\\\\\\boldsymbol{0}^{T}&1\\end{bmatrix} \\begin{bmatrix}\\boldsymbol{X}_{\\mathcal{P}}\\\\\\boldsymbol{1}\\end{bmatrix}\\text{.}\n",
    "\\end{align}\n",
    "$$\n",
    "\n",
    "Another way to write this equation would be \n",
    "$$^{k}\\boldsymbol{\\mathrm{X}}_{\\mathcal{P}} =\\,^{k}\\mathcal{H}\\,\\boldsymbol{\\mathrm{X}}_{\\mathcal{P}}$$\n",
    "with\n",
    "$$^{k}\\mathcal{H} = \\begin{bmatrix}R&-R\\boldsymbol{X}_{O}\\\\\\boldsymbol{0}^{T}&1\\end{bmatrix}\\text{.}\n",
    "$$\n",
    "\n",
    "Note that the left hand side of the equation is in homogeneous coordinates."
   ]
  },
  {
   "cell_type": "markdown",
   "metadata": {},
   "source": [
    "## Intrinsic Parameters\n",
    "\n",
    "    TODO\n",
    "    - Create block diagrams for the different transformations"
   ]
  },
  {
   "cell_type": "markdown",
   "metadata": {},
   "source": [
    "## Ideal Perspective Projection\n",
    "\n",
    "The mapping can be split into 3 steps:\n",
    "1. Ideal perspective projection to the image plane\n",
    "2. Mapping to the sensor coordinate frame (pixels)\n",
    "3. Compensation for the fact that the two previous maps are idealized"
   ]
  },
  {
   "cell_type": "markdown",
   "metadata": {},
   "source": [
    "## Coordinate Frame\n",
    "\n",
    "There are two ways to explain the perspective the camera has with respect to the object in the object coordinate system. The first is the physically motivated coordinate frame where the distance, $c$, is positive.\n",
    "![CoordinateFrame-01](assets/CoordinateFrame-01.png)\n",
    "\n",
    "The other framing of the coordinates is where the distance, $c$, is negative.\n",
    "![CoordinateFrame-02](assets/CoordinateFrame-02.png)\n",
    "\n",
    "The coordinate frame where the distance is negative is the most commonly. Both use the same methods, but it is important to show this in order to get a firm understanding of how the point is framed with respect to the camera.\n"
   ]
  },
  {
   "cell_type": "markdown",
   "metadata": {},
   "source": [
    "## Ideal Perspective Projection\n",
    "\n",
    "We have many assumptions to idealize the camera's perspective. The first assumption is that we are using a distortion-free lens. This allows us to assume that the camera's coordinate system is consistent. The second assumption is that the focal point, $\\mathcal{F}$, and the principal point, $\\mathcal{H}$, are on the optical axis. The last assumption is that the distance from the camera origin to the image plane is constant, $c$.\n",
    "\n",
    "We can find the projected point, $\\overline{\\mathcal{P}}$, through the intercept theorem. The intercept theorem uses the image plane spanned by the coordinates $^{c}x_{\\overline{\\mathcal{P}}}$ and $^{c}x_{\\overline{\\mathcal{P}}}$:\n",
    "$$\n",
    "\\begin{align}\n",
    "^{c}x_{\\overline{\\mathcal{P}}}:=\\,^{k}X_{\\overline{\\mathcal{P}}} =& c\\frac{^{k}X_{\\mathcal{P}}}{^{k}Z_{\\mathcal{P}}}\\\\\n",
    "^{c}y_{\\overline{\\mathcal{P}}}:=\\,^{k}Y_{\\overline{\\mathcal{P}}} =& c\\frac{^{k}Y_{\\mathcal{P}}}{^{k}Z_{\\mathcal{P}}}\n",
    "\\end{align}\n",
    "$$\n",
    "where\n",
    "$$c =\\,^{k}Z_{\\overline{\\mathcal{P}}}= c\\frac{^{k}Z_{\\mathcal{P}}}{^{k}Z_{\\mathcal{P}}}\\text{.}\n",
    "$$"
   ]
  },
  {
   "cell_type": "markdown",
   "metadata": {},
   "source": [
    "## In Homogeneous Coordinates\n",
    "\n",
    "$$\n",
    "\\begin{bmatrix}\n",
    "^{k}U_{\\overline{\\mathcal{P}}}\\\\\n",
    "^{k}V_{\\overline{\\mathcal{P}}}\\\\\n",
    "^{k}W_{\\overline{\\mathcal{P}}}\\\\\n",
    "^{k}T_{\\overline{\\mathcal{P}}}\n",
    "\\end{bmatrix}=\n",
    "\\begin{bmatrix}\n",
    "c&0&0&0\\\\\n",
    "0&c&0&0\\\\\n",
    "0&0&c&0\\\\\n",
    "0&0&0&1\n",
    "\\end{bmatrix}=\n",
    "\\begin{bmatrix}\n",
    "^{k}X_{\\mathcal{P}}\\\\\n",
    "^{k}Y_{\\mathcal{P}}\\\\\n",
    "^{k}Z_{\\mathcal{P}}\\\\\n",
    "1\n",
    "\\end{bmatrix}\n",
    "$$\n",
    "\n",
    "$$\n",
    "^{c}\\mathrm{x}_{\\overline{\\mathcal{P}}}=\n",
    "\\begin{bmatrix}\n",
    "^{k}u_{\\overline{\\mathcal{P}}}\\\\\n",
    "^{k}v_{\\overline{\\mathcal{P}}}\\\\\n",
    "^{k}w_{\\overline{\\mathcal{P}}}\n",
    "\\end{bmatrix}=\n",
    "\\begin{bmatrix}\n",
    "c&0&0&0\\\\\n",
    "0&c&0&0\\\\\n",
    "0&0&1&0\n",
    "\\end{bmatrix}=\n",
    "\\begin{bmatrix}\n",
    "^{k}X_{\\mathcal{P}}\\\\\n",
    "^{k}Y_{\\mathcal{P}}\\\\\n",
    "^{k}Z_{\\mathcal{P}}\\\\\n",
    "1\n",
    "\\end{bmatrix}\n",
    "$$\n",
    "\n",
    "Thus, we can write for any point\n",
    "$$\n",
    "^{c}x_{\\overline{\\mathcal{P}}} =\\,^{c}P_{k}\n",
    "\\,^{k}\\boldsymbol{\\mathrm{X}}_{\\mathcal{P}}\n",
    "$$\n",
    "with\n",
    "$$\n",
    "^{c}P_{k}=\\begin{bmatrix}\n",
    "c&0&0&0\\\\\n",
    "0&c&0&0\\\\\n",
    "0&0&1&0\n",
    "\\end{bmatrix}\n",
    "$$\n",
    "\n",
    "After making all of the assumptions of the \"ideal camera,\" we can map the different coordinates using both the intrinsic and extrinsic parameters:\n",
    "$$^{c}\\boldsymbol{\\mathrm{x}}=\\,^{c}\\mathrm{P}\\,\\boldsymbol{\\mathrm{X}}$$\n",
    "with\n",
    "$$\n",
    "^{c}\\mathrm{P}=\\,^{c}\\mathrm{P}_{k}\\,^{k}\\mathrm{H}=\\begin{bmatrix}\n",
    "c&0&0&0\\\\\n",
    "0&c&0&0\\\\\n",
    "0&0&1&0\n",
    "\\end{bmatrix}\n",
    "\\begin{bmatrix}R&-R\\boldsymbol{X}_{O}\\\\\\boldsymbol{0}^{T}&1\\end{bmatrix}\n",
    "$$"
   ]
  },
  {
   "cell_type": "markdown",
   "metadata": {},
   "source": [
    "## Calibration Matrix\n",
    "\n",
    "This now leads us to the **calibration matrix** of an ideal camera:\n",
    "$$^{c}\\mathrm{K}=\\begin{bmatrix}c&0&0\\\\0&c&0\\\\0&0&1\\end{bmatrix}\\text{.}$$\n",
    "\n",
    "This **calibration matrix** can be used to map the different coordinate systems. The overall mapping is\n",
    "$$\n",
    "^{c}\\mathrm{P}=\\,^{c}\\mathrm{K}[R|-R\\boldsymbol{X}_{O}]=\\,^{c}\\mathrm{K}R[I_{3}|-\\boldsymbol{X}_{O}]\n",
    "$$\n",
    "where the result is a $3\\times4$ matrix.\n",
    "\n",
    "So the projection, $$^{c}\\mathrm{P}=\\,^{c}\\mathrm{K}R[I_{3}|-\\boldsymbol{X}_{O}]\\text{,}$$\n",
    "helps us map the point in the object coordinate system to the point in the image plane:\n",
    "$$^{c}\\mathrm{x}\\,^{c}\\mathrm{K}R[I_{3}|-\\boldsymbol{X}_{O}]\\boldsymbol{\\mathrm{X}}\\text{.}$$\n",
    "\n",
    "The process yields the coordinates of the point, $^{c}\\boldsymbol{\\mathrm{x}}$:\n",
    "$$\n",
    "\\begin{bmatrix}^{c}u^{\\prime}\\\\^{c}v^{\\prime}\\\\^{c}w^{\\prime}\\end{bmatrix} = \\begin{bmatrix}c&0&0\\\\0&c&0\\\\0&0&1\\end{bmatrix} \n",
    "\\begin{bmatrix}r_{11}&r_{12}&r_{13}\\\\r_{21}&r_{22}&r_{23}\\\\r_{31}&r_{32}&r_{33}\\end{bmatrix} \n",
    "\\begin{bmatrix}X-X_{O}\\\\Y-Y_{O}\\\\Z-Z_{O}\\end{bmatrix}\\text{.}\n",
    "$$"
   ]
  },
  {
   "cell_type": "markdown",
   "metadata": {},
   "source": [
    "## Calibration Matrix (Euclidean Coordinates)\n",
    "\n",
    "The solution for the point's coordinates in the image coordinate system produces the **collinearity equation**:\n",
    "$$\n",
    "\\begin{align}\n",
    "^{c}x=&\\,c\\frac{r_{11}(X-X_{O})+r_{12}(Y-Y_{O})+r_{13}(Z-Z_{O})}{r_{31}(X-X_{O})+r_{32}(Y-Y_{O})+r_{33}(Z-Z_{O})}\\\\\n",
    "^{c}y=&\\,c\\frac{r_{21}(X-X_{O})+r_{22}(Y-Y_{O})+r_{23}(Z-Z_{O})}{r_{31}(X-X_{O})+r_{32}(Y-Y_{O})+r_{33}(Z-Z_{O})}\n",
    "\\end{align}\n",
    "$$"
   ]
  },
  {
   "cell_type": "markdown",
   "metadata": {},
   "source": []
  },
  {
   "cell_type": "markdown",
   "metadata": {},
   "source": []
  },
  {
   "cell_type": "markdown",
   "metadata": {},
   "source": []
  },
  {
   "cell_type": "markdown",
   "metadata": {},
   "source": []
  },
  {
   "cell_type": "markdown",
   "metadata": {},
   "source": []
  },
  {
   "cell_type": "markdown",
   "metadata": {},
   "source": []
  },
  {
   "cell_type": "markdown",
   "metadata": {},
   "source": []
  },
  {
   "cell_type": "markdown",
   "metadata": {},
   "source": []
  },
  {
   "cell_type": "markdown",
   "metadata": {},
   "source": []
  },
  {
   "cell_type": "markdown",
   "metadata": {},
   "source": []
  },
  {
   "cell_type": "markdown",
   "metadata": {},
   "source": []
  },
  {
   "cell_type": "markdown",
   "metadata": {},
   "source": []
  },
  {
   "cell_type": "markdown",
   "metadata": {},
   "source": []
  },
  {
   "cell_type": "markdown",
   "metadata": {},
   "source": []
  },
  {
   "cell_type": "markdown",
   "metadata": {},
   "source": []
  }
 ],
 "metadata": {
  "kernelspec": {
   "display_name": "Python 3",
   "language": "python",
   "name": "python3"
  },
  "language_info": {
   "codemirror_mode": {
    "name": "ipython",
    "version": 3
   },
   "file_extension": ".py",
   "mimetype": "text/x-python",
   "name": "python",
   "nbconvert_exporter": "python",
   "pygments_lexer": "ipython3",
   "version": "3.7.7"
  }
 },
 "nbformat": 4,
 "nbformat_minor": 4
}
